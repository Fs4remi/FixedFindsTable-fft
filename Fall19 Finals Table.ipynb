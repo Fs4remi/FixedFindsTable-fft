{
 "cells": [
  {
   "cell_type": "code",
   "execution_count": 53,
   "metadata": {},
   "outputs": [],
   "source": [
    "import pandas as pd\n",
    "import re"
   ]
  },
  {
   "cell_type": "code",
   "execution_count": 109,
   "metadata": {},
   "outputs": [],
   "source": [
    "#Creating the data frame\n",
    "table_df = pd.read_html(\"http://www.csueastbay.edu/students/academics-and-studying/finals/fall.html\", header = 0)\n",
    "table_df = table_df[0]\n",
    "clean_table_titles = ['time / date', 'Mon Dec 9', 'Tue Dec 10', 'Wed Dec 11','Thurs Dec 12', 'Fri Dec 13']\n",
    "table_df.columns = clean_table_titles"
   ]
  },
  {
   "cell_type": "code",
   "execution_count": 110,
   "metadata": {},
   "outputs": [
    {
     "data": {
      "text/html": [
       "<div>\n",
       "<style scoped>\n",
       "    .dataframe tbody tr th:only-of-type {\n",
       "        vertical-align: middle;\n",
       "    }\n",
       "\n",
       "    .dataframe tbody tr th {\n",
       "        vertical-align: top;\n",
       "    }\n",
       "\n",
       "    .dataframe thead th {\n",
       "        text-align: right;\n",
       "    }\n",
       "</style>\n",
       "<table border=\"1\" class=\"dataframe\">\n",
       "  <thead>\n",
       "    <tr style=\"text-align: right;\">\n",
       "      <th></th>\n",
       "      <th>time / date</th>\n",
       "      <th>Mon Dec 9</th>\n",
       "      <th>Tue Dec 10</th>\n",
       "      <th>Wed Dec 11</th>\n",
       "      <th>Thurs Dec 12</th>\n",
       "      <th>Fri Dec 13</th>\n",
       "    </tr>\n",
       "  </thead>\n",
       "  <tbody>\n",
       "    <tr>\n",
       "      <th>0</th>\n",
       "      <td>8 AM -10 AM</td>\n",
       "      <td>MWF 8-8:59 am MW 7-8:59 am M 7-9:59 am MF 8-8:...</td>\n",
       "      <td>TuTh 9-9:59 am Tu 7-9:59 am</td>\n",
       "      <td>MWF 9-9:59 am MW 9-9:59 am WF 9-9:59 am W 7-9:...</td>\n",
       "      <td>TuTh 6:30-8:59 am Th 6:30-9:59 am</td>\n",
       "      <td>FS 8-8:59 am F 8-9:59 am WF 8-8:59 am MF 9-9:5...</td>\n",
       "    </tr>\n",
       "    <tr>\n",
       "      <th>1</th>\n",
       "      <td>10:15 AM - 12:15 PM</td>\n",
       "      <td>MWF 10-10:59 am MW 10-10:59 am M 10-11:59 am M...</td>\n",
       "      <td>TuTh 11-11:59 am Tu 10-11:59 am</td>\n",
       "      <td>MWF 11-11:59 am MW 11-11:59 am WF 11-11:59 am ...</td>\n",
       "      <td>TuTh 10-10:59 am Th 10-11:59 am</td>\n",
       "      <td>FS 10-10:59 am F 10-11:59 am MF 11-11:59 am WF...</td>\n",
       "    </tr>\n",
       "    <tr>\n",
       "      <th>2</th>\n",
       "      <td>12:45 PM - 2:45 PM</td>\n",
       "      <td>MWF 12-12:59 pm MW 12-12:59 pm M 12-1:59 pm MF...</td>\n",
       "      <td>TuTh 1-1:59 pm Tu 12-1:59 pm</td>\n",
       "      <td>MWF 1-1:59 pm MW 1-1:59 pm W 12-1:59 pm WF 1-1...</td>\n",
       "      <td>TuTh 12-12:59 pm Th 12-1:59 pm</td>\n",
       "      <td>FS 12-12:59 pm F 12-1:59 pm WF 12-12:59 pm MF ...</td>\n",
       "    </tr>\n",
       "    <tr>\n",
       "      <th>3</th>\n",
       "      <td>3 PM - 5 PM</td>\n",
       "      <td>MWF 2-2:59 pm MW 2-2:59 pm M 2-2:59 pm MF 2-2:...</td>\n",
       "      <td>TuTh 3-3:59 pm Tu 2-2:59 pm</td>\n",
       "      <td>MWF 3-5:59 pm MW 3-3:59 pm W 2-2:59 pm WF 3-3:...</td>\n",
       "      <td>TuTh 2-2:59 pm Th 2-2:59 pm</td>\n",
       "      <td>FS 2-2:59 pm F 2-3:59 pm MF 3-3:59 pm WF 2-2:5...</td>\n",
       "    </tr>\n",
       "    <tr>\n",
       "      <th>4</th>\n",
       "      <td>5:30 PM - 7:30 PM</td>\n",
       "      <td>MWF 4-4:59 pm MW 4-4:59 pm M 3-5:59 pm MF 4-4:...</td>\n",
       "      <td>TuTh 5-5:59 pm Tu 3-5:59 pm</td>\n",
       "      <td>MWF 5-5:59 pm MW 5-5:59 pm W 3-5:59 pm WF 5-5:...</td>\n",
       "      <td>TuTh 4-4:59 pm Th 3-5:59 pm</td>\n",
       "      <td>FS 4-4:59 pm F 4-5:59 pm WF 4-4:59 pm MF 5-5:5...</td>\n",
       "    </tr>\n",
       "    <tr>\n",
       "      <th>5</th>\n",
       "      <td>8 PM - 10 PM</td>\n",
       "      <td>MW 6-7:59 pm M 6-9:59 pm</td>\n",
       "      <td>TuTh 8-9:59 pm Tu 6-9:59 pm</td>\n",
       "      <td>W 6-9:59 pm MW 8-9:59 pm</td>\n",
       "      <td>TuTh 6-7:59 pm Th 6-9:59 pm</td>\n",
       "      <td>FS 6-9:59 pm F 6-9:59 pm</td>\n",
       "    </tr>\n",
       "  </tbody>\n",
       "</table>\n",
       "</div>"
      ],
      "text/plain": [
       "           time / date                                          Mon Dec 9  \\\n",
       "0          8 AM -10 AM  MWF 8-8:59 am MW 7-8:59 am M 7-9:59 am MF 8-8:...   \n",
       "1  10:15 AM - 12:15 PM  MWF 10-10:59 am MW 10-10:59 am M 10-11:59 am M...   \n",
       "2   12:45 PM - 2:45 PM  MWF 12-12:59 pm MW 12-12:59 pm M 12-1:59 pm MF...   \n",
       "3          3 PM - 5 PM  MWF 2-2:59 pm MW 2-2:59 pm M 2-2:59 pm MF 2-2:...   \n",
       "4    5:30 PM - 7:30 PM  MWF 4-4:59 pm MW 4-4:59 pm M 3-5:59 pm MF 4-4:...   \n",
       "5         8 PM - 10 PM                           MW 6-7:59 pm M 6-9:59 pm   \n",
       "\n",
       "                        Tue Dec 10  \\\n",
       "0      TuTh 9-9:59 am Tu 7-9:59 am   \n",
       "1  TuTh 11-11:59 am Tu 10-11:59 am   \n",
       "2     TuTh 1-1:59 pm Tu 12-1:59 pm   \n",
       "3      TuTh 3-3:59 pm Tu 2-2:59 pm   \n",
       "4      TuTh 5-5:59 pm Tu 3-5:59 pm   \n",
       "5      TuTh 8-9:59 pm Tu 6-9:59 pm   \n",
       "\n",
       "                                          Wed Dec 11  \\\n",
       "0  MWF 9-9:59 am MW 9-9:59 am WF 9-9:59 am W 7-9:...   \n",
       "1  MWF 11-11:59 am MW 11-11:59 am WF 11-11:59 am ...   \n",
       "2  MWF 1-1:59 pm MW 1-1:59 pm W 12-1:59 pm WF 1-1...   \n",
       "3  MWF 3-5:59 pm MW 3-3:59 pm W 2-2:59 pm WF 3-3:...   \n",
       "4  MWF 5-5:59 pm MW 5-5:59 pm W 3-5:59 pm WF 5-5:...   \n",
       "5                           W 6-9:59 pm MW 8-9:59 pm   \n",
       "\n",
       "                        Thurs Dec 12  \\\n",
       "0  TuTh 6:30-8:59 am Th 6:30-9:59 am   \n",
       "1    TuTh 10-10:59 am Th 10-11:59 am   \n",
       "2     TuTh 12-12:59 pm Th 12-1:59 pm   \n",
       "3        TuTh 2-2:59 pm Th 2-2:59 pm   \n",
       "4        TuTh 4-4:59 pm Th 3-5:59 pm   \n",
       "5        TuTh 6-7:59 pm Th 6-9:59 pm   \n",
       "\n",
       "                                          Fri Dec 13  \n",
       "0  FS 8-8:59 am F 8-9:59 am WF 8-8:59 am MF 9-9:5...  \n",
       "1  FS 10-10:59 am F 10-11:59 am MF 11-11:59 am WF...  \n",
       "2  FS 12-12:59 pm F 12-1:59 pm WF 12-12:59 pm MF ...  \n",
       "3  FS 2-2:59 pm F 2-3:59 pm MF 3-3:59 pm WF 2-2:5...  \n",
       "4  FS 4-4:59 pm F 4-5:59 pm WF 4-4:59 pm MF 5-5:5...  \n",
       "5                           FS 6-9:59 pm F 6-9:59 pm  "
      ]
     },
     "execution_count": 110,
     "metadata": {},
     "output_type": "execute_result"
    }
   ],
   "source": [
    "#What the data frame contains:\n",
    "table_df.head(10)"
   ]
  },
  {
   "cell_type": "code",
   "execution_count": 113,
   "metadata": {},
   "outputs": [
    {
     "name": "stdout",
     "output_type": "stream",
     "text": [
      "MWF 8-8:59 am MW 7-8:59 am M 7-9:59 am MF 8-8:59 am \n",
      "\n",
      "TuTh 9-9:59 am Tu 7-9:59 am \n",
      "\n",
      "MWF 9-9:59 am MW 9-9:59 am WF 9-9:59 am W 7-9:59 am \n",
      "\n",
      "TuTh 6:30-8:59 am Th 6:30-9:59 am \n",
      "\n",
      "FS 8-8:59 am F 8-9:59 am WF 8-8:59 am MF 9-9:59 am \n",
      "\n"
     ]
    },
    {
     "data": {
      "text/plain": [
       "Mon Dec 9       None\n",
       "Tue Dec 10      None\n",
       "Wed Dec 11      None\n",
       "Thurs Dec 12    None\n",
       "Fri Dec 13      None\n",
       "Name: 0, dtype: object"
      ]
     },
     "execution_count": 113,
     "metadata": {},
     "output_type": "execute_result"
    }
   ],
   "source": [
    "#cloder look at row 1--chosen randomly:\n",
    "table_df.loc[0,'Mon Dec 9':].map(lambda entry: print(entry, '\\n'))"
   ]
  },
  {
   "cell_type": "code",
   "execution_count": 115,
   "metadata": {},
   "outputs": [
    {
     "data": {
      "text/plain": [
       "str"
      ]
     },
     "execution_count": 115,
     "metadata": {},
     "output_type": "execute_result"
    }
   ],
   "source": [
    "#the entries have str data type\n",
    "type(table_df.loc[4,'Mon Dec 9'])"
   ]
  },
  {
   "cell_type": "code",
   "execution_count": 108,
   "metadata": {},
   "outputs": [
    {
     "ename": "TypeError",
     "evalue": "('expected string or bytes-like object', 'occurred at index Mon Dec 9')",
     "output_type": "error",
     "traceback": [
      "\u001b[1;31m---------------------------------------------------------------------------\u001b[0m",
      "\u001b[1;31mTypeError\u001b[0m                                 Traceback (most recent call last)",
      "\u001b[1;32m<ipython-input-108-5c3c3d608db1>\u001b[0m in \u001b[0;36m<module>\u001b[1;34m\u001b[0m\n\u001b[0;32m      1\u001b[0m \u001b[1;31m#Applying the regex function to all rows and columns\u001b[0m\u001b[1;33m\u001b[0m\u001b[1;33m\u001b[0m\u001b[1;33m\u001b[0m\u001b[0m\n\u001b[0;32m      2\u001b[0m \u001b[1;31m#Updating the dataframe so the entries no longet have str data type,\u001b[0m\u001b[1;33m\u001b[0m\u001b[1;33m\u001b[0m\u001b[1;33m\u001b[0m\u001b[0m\n\u001b[1;32m----> 3\u001b[1;33m \u001b[0mtable_df\u001b[0m\u001b[1;33m.\u001b[0m\u001b[0mloc\u001b[0m\u001b[1;33m[\u001b[0m\u001b[1;33m:\u001b[0m\u001b[1;33m,\u001b[0m\u001b[1;34m'Mon Dec 9'\u001b[0m\u001b[1;33m:\u001b[0m\u001b[1;33m]\u001b[0m\u001b[1;33m=\u001b[0m\u001b[0mtable_df\u001b[0m\u001b[1;33m.\u001b[0m\u001b[0mloc\u001b[0m\u001b[1;33m[\u001b[0m\u001b[1;33m:\u001b[0m\u001b[1;33m,\u001b[0m\u001b[1;34m'Mon Dec 9'\u001b[0m\u001b[1;33m:\u001b[0m\u001b[1;33m]\u001b[0m\u001b[1;33m.\u001b[0m\u001b[0mapplymap\u001b[0m\u001b[1;33m(\u001b[0m\u001b[1;32mlambda\u001b[0m \u001b[0mstringEntry\u001b[0m\u001b[1;33m:\u001b[0m \u001b[0mre\u001b[0m\u001b[1;33m.\u001b[0m\u001b[0mfindall\u001b[0m\u001b[1;33m(\u001b[0m\u001b[1;34m\"\\w+ [0-9]+-[0-9]+:[0-9]+ [ap]m\"\u001b[0m\u001b[1;33m,\u001b[0m \u001b[0mstringEntry\u001b[0m\u001b[1;33m)\u001b[0m\u001b[1;33m)\u001b[0m\u001b[1;33m\u001b[0m\u001b[1;33m\u001b[0m\u001b[0m\n\u001b[0m",
      "\u001b[1;32m~\\Anaconda3\\lib\\site-packages\\pandas\\core\\frame.py\u001b[0m in \u001b[0;36mapplymap\u001b[1;34m(self, func)\u001b[0m\n\u001b[0;32m   6070\u001b[0m             \u001b[1;32mreturn\u001b[0m \u001b[0mlib\u001b[0m\u001b[1;33m.\u001b[0m\u001b[0mmap_infer\u001b[0m\u001b[1;33m(\u001b[0m\u001b[0mx\u001b[0m\u001b[1;33m.\u001b[0m\u001b[0mastype\u001b[0m\u001b[1;33m(\u001b[0m\u001b[0mobject\u001b[0m\u001b[1;33m)\u001b[0m\u001b[1;33m.\u001b[0m\u001b[0mvalues\u001b[0m\u001b[1;33m,\u001b[0m \u001b[0mfunc\u001b[0m\u001b[1;33m)\u001b[0m\u001b[1;33m\u001b[0m\u001b[1;33m\u001b[0m\u001b[0m\n\u001b[0;32m   6071\u001b[0m \u001b[1;33m\u001b[0m\u001b[0m\n\u001b[1;32m-> 6072\u001b[1;33m         \u001b[1;32mreturn\u001b[0m \u001b[0mself\u001b[0m\u001b[1;33m.\u001b[0m\u001b[0mapply\u001b[0m\u001b[1;33m(\u001b[0m\u001b[0minfer\u001b[0m\u001b[1;33m)\u001b[0m\u001b[1;33m\u001b[0m\u001b[1;33m\u001b[0m\u001b[0m\n\u001b[0m\u001b[0;32m   6073\u001b[0m \u001b[1;33m\u001b[0m\u001b[0m\n\u001b[0;32m   6074\u001b[0m     \u001b[1;31m# ----------------------------------------------------------------------\u001b[0m\u001b[1;33m\u001b[0m\u001b[1;33m\u001b[0m\u001b[1;33m\u001b[0m\u001b[0m\n",
      "\u001b[1;32m~\\Anaconda3\\lib\\site-packages\\pandas\\core\\frame.py\u001b[0m in \u001b[0;36mapply\u001b[1;34m(self, func, axis, broadcast, raw, reduce, result_type, args, **kwds)\u001b[0m\n\u001b[0;32m   6012\u001b[0m                          \u001b[0margs\u001b[0m\u001b[1;33m=\u001b[0m\u001b[0margs\u001b[0m\u001b[1;33m,\u001b[0m\u001b[1;33m\u001b[0m\u001b[1;33m\u001b[0m\u001b[0m\n\u001b[0;32m   6013\u001b[0m                          kwds=kwds)\n\u001b[1;32m-> 6014\u001b[1;33m         \u001b[1;32mreturn\u001b[0m \u001b[0mop\u001b[0m\u001b[1;33m.\u001b[0m\u001b[0mget_result\u001b[0m\u001b[1;33m(\u001b[0m\u001b[1;33m)\u001b[0m\u001b[1;33m\u001b[0m\u001b[1;33m\u001b[0m\u001b[0m\n\u001b[0m\u001b[0;32m   6015\u001b[0m \u001b[1;33m\u001b[0m\u001b[0m\n\u001b[0;32m   6016\u001b[0m     \u001b[1;32mdef\u001b[0m \u001b[0mapplymap\u001b[0m\u001b[1;33m(\u001b[0m\u001b[0mself\u001b[0m\u001b[1;33m,\u001b[0m \u001b[0mfunc\u001b[0m\u001b[1;33m)\u001b[0m\u001b[1;33m:\u001b[0m\u001b[1;33m\u001b[0m\u001b[1;33m\u001b[0m\u001b[0m\n",
      "\u001b[1;32m~\\Anaconda3\\lib\\site-packages\\pandas\\core\\apply.py\u001b[0m in \u001b[0;36mget_result\u001b[1;34m(self)\u001b[0m\n\u001b[0;32m    316\u001b[0m                                       *self.args, **self.kwds)\n\u001b[0;32m    317\u001b[0m \u001b[1;33m\u001b[0m\u001b[0m\n\u001b[1;32m--> 318\u001b[1;33m         \u001b[1;32mreturn\u001b[0m \u001b[0msuper\u001b[0m\u001b[1;33m(\u001b[0m\u001b[0mFrameRowApply\u001b[0m\u001b[1;33m,\u001b[0m \u001b[0mself\u001b[0m\u001b[1;33m)\u001b[0m\u001b[1;33m.\u001b[0m\u001b[0mget_result\u001b[0m\u001b[1;33m(\u001b[0m\u001b[1;33m)\u001b[0m\u001b[1;33m\u001b[0m\u001b[1;33m\u001b[0m\u001b[0m\n\u001b[0m\u001b[0;32m    319\u001b[0m \u001b[1;33m\u001b[0m\u001b[0m\n\u001b[0;32m    320\u001b[0m     \u001b[1;32mdef\u001b[0m \u001b[0mapply_broadcast\u001b[0m\u001b[1;33m(\u001b[0m\u001b[0mself\u001b[0m\u001b[1;33m)\u001b[0m\u001b[1;33m:\u001b[0m\u001b[1;33m\u001b[0m\u001b[1;33m\u001b[0m\u001b[0m\n",
      "\u001b[1;32m~\\Anaconda3\\lib\\site-packages\\pandas\\core\\apply.py\u001b[0m in \u001b[0;36mget_result\u001b[1;34m(self)\u001b[0m\n\u001b[0;32m    140\u001b[0m             \u001b[1;32mreturn\u001b[0m \u001b[0mself\u001b[0m\u001b[1;33m.\u001b[0m\u001b[0mapply_raw\u001b[0m\u001b[1;33m(\u001b[0m\u001b[1;33m)\u001b[0m\u001b[1;33m\u001b[0m\u001b[1;33m\u001b[0m\u001b[0m\n\u001b[0;32m    141\u001b[0m \u001b[1;33m\u001b[0m\u001b[0m\n\u001b[1;32m--> 142\u001b[1;33m         \u001b[1;32mreturn\u001b[0m \u001b[0mself\u001b[0m\u001b[1;33m.\u001b[0m\u001b[0mapply_standard\u001b[0m\u001b[1;33m(\u001b[0m\u001b[1;33m)\u001b[0m\u001b[1;33m\u001b[0m\u001b[1;33m\u001b[0m\u001b[0m\n\u001b[0m\u001b[0;32m    143\u001b[0m \u001b[1;33m\u001b[0m\u001b[0m\n\u001b[0;32m    144\u001b[0m     \u001b[1;32mdef\u001b[0m \u001b[0mapply_empty_result\u001b[0m\u001b[1;33m(\u001b[0m\u001b[0mself\u001b[0m\u001b[1;33m)\u001b[0m\u001b[1;33m:\u001b[0m\u001b[1;33m\u001b[0m\u001b[1;33m\u001b[0m\u001b[0m\n",
      "\u001b[1;32m~\\Anaconda3\\lib\\site-packages\\pandas\\core\\apply.py\u001b[0m in \u001b[0;36mapply_standard\u001b[1;34m(self)\u001b[0m\n\u001b[0;32m    246\u001b[0m \u001b[1;33m\u001b[0m\u001b[0m\n\u001b[0;32m    247\u001b[0m         \u001b[1;31m# compute the result using the series generator\u001b[0m\u001b[1;33m\u001b[0m\u001b[1;33m\u001b[0m\u001b[1;33m\u001b[0m\u001b[0m\n\u001b[1;32m--> 248\u001b[1;33m         \u001b[0mself\u001b[0m\u001b[1;33m.\u001b[0m\u001b[0mapply_series_generator\u001b[0m\u001b[1;33m(\u001b[0m\u001b[1;33m)\u001b[0m\u001b[1;33m\u001b[0m\u001b[1;33m\u001b[0m\u001b[0m\n\u001b[0m\u001b[0;32m    249\u001b[0m \u001b[1;33m\u001b[0m\u001b[0m\n\u001b[0;32m    250\u001b[0m         \u001b[1;31m# wrap results\u001b[0m\u001b[1;33m\u001b[0m\u001b[1;33m\u001b[0m\u001b[1;33m\u001b[0m\u001b[0m\n",
      "\u001b[1;32m~\\Anaconda3\\lib\\site-packages\\pandas\\core\\apply.py\u001b[0m in \u001b[0;36mapply_series_generator\u001b[1;34m(self)\u001b[0m\n\u001b[0;32m    275\u001b[0m             \u001b[1;32mtry\u001b[0m\u001b[1;33m:\u001b[0m\u001b[1;33m\u001b[0m\u001b[1;33m\u001b[0m\u001b[0m\n\u001b[0;32m    276\u001b[0m                 \u001b[1;32mfor\u001b[0m \u001b[0mi\u001b[0m\u001b[1;33m,\u001b[0m \u001b[0mv\u001b[0m \u001b[1;32min\u001b[0m \u001b[0menumerate\u001b[0m\u001b[1;33m(\u001b[0m\u001b[0mseries_gen\u001b[0m\u001b[1;33m)\u001b[0m\u001b[1;33m:\u001b[0m\u001b[1;33m\u001b[0m\u001b[1;33m\u001b[0m\u001b[0m\n\u001b[1;32m--> 277\u001b[1;33m                     \u001b[0mresults\u001b[0m\u001b[1;33m[\u001b[0m\u001b[0mi\u001b[0m\u001b[1;33m]\u001b[0m \u001b[1;33m=\u001b[0m \u001b[0mself\u001b[0m\u001b[1;33m.\u001b[0m\u001b[0mf\u001b[0m\u001b[1;33m(\u001b[0m\u001b[0mv\u001b[0m\u001b[1;33m)\u001b[0m\u001b[1;33m\u001b[0m\u001b[1;33m\u001b[0m\u001b[0m\n\u001b[0m\u001b[0;32m    278\u001b[0m                     \u001b[0mkeys\u001b[0m\u001b[1;33m.\u001b[0m\u001b[0mappend\u001b[0m\u001b[1;33m(\u001b[0m\u001b[0mv\u001b[0m\u001b[1;33m.\u001b[0m\u001b[0mname\u001b[0m\u001b[1;33m)\u001b[0m\u001b[1;33m\u001b[0m\u001b[1;33m\u001b[0m\u001b[0m\n\u001b[0;32m    279\u001b[0m             \u001b[1;32mexcept\u001b[0m \u001b[0mException\u001b[0m \u001b[1;32mas\u001b[0m \u001b[0me\u001b[0m\u001b[1;33m:\u001b[0m\u001b[1;33m\u001b[0m\u001b[1;33m\u001b[0m\u001b[0m\n",
      "\u001b[1;32m~\\Anaconda3\\lib\\site-packages\\pandas\\core\\frame.py\u001b[0m in \u001b[0;36minfer\u001b[1;34m(x)\u001b[0m\n\u001b[0;32m   6068\u001b[0m             \u001b[1;32mif\u001b[0m \u001b[0mx\u001b[0m\u001b[1;33m.\u001b[0m\u001b[0mempty\u001b[0m\u001b[1;33m:\u001b[0m\u001b[1;33m\u001b[0m\u001b[1;33m\u001b[0m\u001b[0m\n\u001b[0;32m   6069\u001b[0m                 \u001b[1;32mreturn\u001b[0m \u001b[0mlib\u001b[0m\u001b[1;33m.\u001b[0m\u001b[0mmap_infer\u001b[0m\u001b[1;33m(\u001b[0m\u001b[0mx\u001b[0m\u001b[1;33m,\u001b[0m \u001b[0mfunc\u001b[0m\u001b[1;33m)\u001b[0m\u001b[1;33m\u001b[0m\u001b[1;33m\u001b[0m\u001b[0m\n\u001b[1;32m-> 6070\u001b[1;33m             \u001b[1;32mreturn\u001b[0m \u001b[0mlib\u001b[0m\u001b[1;33m.\u001b[0m\u001b[0mmap_infer\u001b[0m\u001b[1;33m(\u001b[0m\u001b[0mx\u001b[0m\u001b[1;33m.\u001b[0m\u001b[0mastype\u001b[0m\u001b[1;33m(\u001b[0m\u001b[0mobject\u001b[0m\u001b[1;33m)\u001b[0m\u001b[1;33m.\u001b[0m\u001b[0mvalues\u001b[0m\u001b[1;33m,\u001b[0m \u001b[0mfunc\u001b[0m\u001b[1;33m)\u001b[0m\u001b[1;33m\u001b[0m\u001b[1;33m\u001b[0m\u001b[0m\n\u001b[0m\u001b[0;32m   6071\u001b[0m \u001b[1;33m\u001b[0m\u001b[0m\n\u001b[0;32m   6072\u001b[0m         \u001b[1;32mreturn\u001b[0m \u001b[0mself\u001b[0m\u001b[1;33m.\u001b[0m\u001b[0mapply\u001b[0m\u001b[1;33m(\u001b[0m\u001b[0minfer\u001b[0m\u001b[1;33m)\u001b[0m\u001b[1;33m\u001b[0m\u001b[1;33m\u001b[0m\u001b[0m\n",
      "\u001b[1;32mpandas/_libs/src\\inference.pyx\u001b[0m in \u001b[0;36mpandas._libs.lib.map_infer\u001b[1;34m()\u001b[0m\n",
      "\u001b[1;32m<ipython-input-108-5c3c3d608db1>\u001b[0m in \u001b[0;36m<lambda>\u001b[1;34m(stringEntry)\u001b[0m\n\u001b[0;32m      1\u001b[0m \u001b[1;31m#Applying the regex function to all rows and columns\u001b[0m\u001b[1;33m\u001b[0m\u001b[1;33m\u001b[0m\u001b[1;33m\u001b[0m\u001b[0m\n\u001b[0;32m      2\u001b[0m \u001b[1;31m#Updating the dataframe so the entries no longet have str data type,\u001b[0m\u001b[1;33m\u001b[0m\u001b[1;33m\u001b[0m\u001b[1;33m\u001b[0m\u001b[0m\n\u001b[1;32m----> 3\u001b[1;33m \u001b[0mtable_df\u001b[0m\u001b[1;33m.\u001b[0m\u001b[0mloc\u001b[0m\u001b[1;33m[\u001b[0m\u001b[1;33m:\u001b[0m\u001b[1;33m,\u001b[0m\u001b[1;34m'Mon Dec 9'\u001b[0m\u001b[1;33m:\u001b[0m\u001b[1;33m]\u001b[0m\u001b[1;33m=\u001b[0m\u001b[0mtable_df\u001b[0m\u001b[1;33m.\u001b[0m\u001b[0mloc\u001b[0m\u001b[1;33m[\u001b[0m\u001b[1;33m:\u001b[0m\u001b[1;33m,\u001b[0m\u001b[1;34m'Mon Dec 9'\u001b[0m\u001b[1;33m:\u001b[0m\u001b[1;33m]\u001b[0m\u001b[1;33m.\u001b[0m\u001b[0mapplymap\u001b[0m\u001b[1;33m(\u001b[0m\u001b[1;32mlambda\u001b[0m \u001b[0mstringEntry\u001b[0m\u001b[1;33m:\u001b[0m \u001b[0mre\u001b[0m\u001b[1;33m.\u001b[0m\u001b[0mfindall\u001b[0m\u001b[1;33m(\u001b[0m\u001b[1;34m\"\\w+ [0-9]+-[0-9]+:[0-9]+ [ap]m\"\u001b[0m\u001b[1;33m,\u001b[0m \u001b[0mstringEntry\u001b[0m\u001b[1;33m)\u001b[0m\u001b[1;33m)\u001b[0m\u001b[1;33m\u001b[0m\u001b[1;33m\u001b[0m\u001b[0m\n\u001b[0m",
      "\u001b[1;32m~\\Anaconda3\\lib\\re.py\u001b[0m in \u001b[0;36mfindall\u001b[1;34m(pattern, string, flags)\u001b[0m\n\u001b[0;32m    221\u001b[0m \u001b[1;33m\u001b[0m\u001b[0m\n\u001b[0;32m    222\u001b[0m     Empty matches are included in the result.\"\"\"\n\u001b[1;32m--> 223\u001b[1;33m     \u001b[1;32mreturn\u001b[0m \u001b[0m_compile\u001b[0m\u001b[1;33m(\u001b[0m\u001b[0mpattern\u001b[0m\u001b[1;33m,\u001b[0m \u001b[0mflags\u001b[0m\u001b[1;33m)\u001b[0m\u001b[1;33m.\u001b[0m\u001b[0mfindall\u001b[0m\u001b[1;33m(\u001b[0m\u001b[0mstring\u001b[0m\u001b[1;33m)\u001b[0m\u001b[1;33m\u001b[0m\u001b[1;33m\u001b[0m\u001b[0m\n\u001b[0m\u001b[0;32m    224\u001b[0m \u001b[1;33m\u001b[0m\u001b[0m\n\u001b[0;32m    225\u001b[0m \u001b[1;32mdef\u001b[0m \u001b[0mfinditer\u001b[0m\u001b[1;33m(\u001b[0m\u001b[0mpattern\u001b[0m\u001b[1;33m,\u001b[0m \u001b[0mstring\u001b[0m\u001b[1;33m,\u001b[0m \u001b[0mflags\u001b[0m\u001b[1;33m=\u001b[0m\u001b[1;36m0\u001b[0m\u001b[1;33m)\u001b[0m\u001b[1;33m:\u001b[0m\u001b[1;33m\u001b[0m\u001b[1;33m\u001b[0m\u001b[0m\n",
      "\u001b[1;31mTypeError\u001b[0m: ('expected string or bytes-like object', 'occurred at index Mon Dec 9')"
     ]
    }
   ],
   "source": [
    "#Applying the regex function to all rows and columns\n",
    "#Updating the dataframe so the entries no longet have str data type, \n",
    "table_df.loc[:,'Mon Dec 9':]=table_df.loc[:,'Mon Dec 9':].applymap(lambda stringEntry: re.findall(\"\\w+ [0-9]+-[0-9]+:[0-9]+ [ap]m\", stringEntry))"
   ]
  },
  {
   "cell_type": "code",
   "execution_count": 107,
   "metadata": {},
   "outputs": [
    {
     "data": {
      "text/html": [
       "<div>\n",
       "<style scoped>\n",
       "    .dataframe tbody tr th:only-of-type {\n",
       "        vertical-align: middle;\n",
       "    }\n",
       "\n",
       "    .dataframe tbody tr th {\n",
       "        vertical-align: top;\n",
       "    }\n",
       "\n",
       "    .dataframe thead th {\n",
       "        text-align: right;\n",
       "    }\n",
       "</style>\n",
       "<table border=\"1\" class=\"dataframe\">\n",
       "  <thead>\n",
       "    <tr style=\"text-align: right;\">\n",
       "      <th></th>\n",
       "      <th>time / date</th>\n",
       "      <th>Mon Dec 9</th>\n",
       "      <th>Tue Dec 10</th>\n",
       "      <th>Wed Dec 11</th>\n",
       "      <th>Thurs Dec 12</th>\n",
       "      <th>Fri Dec 13</th>\n",
       "    </tr>\n",
       "  </thead>\n",
       "  <tbody>\n",
       "    <tr>\n",
       "      <th>0</th>\n",
       "      <td>8 AM -10 AM</td>\n",
       "      <td>[MWF 8-8:59 am, MW 7-8:59 am, M 7-9:59 am, MF ...</td>\n",
       "      <td>[TuTh 9-9:59 am, Tu 7-9:59 am]</td>\n",
       "      <td>[MWF 9-9:59 am, MW 9-9:59 am, WF 9-9:59 am, W ...</td>\n",
       "      <td>[]</td>\n",
       "      <td>[FS 8-8:59 am, F 8-9:59 am, WF 8-8:59 am, MF 9...</td>\n",
       "    </tr>\n",
       "    <tr>\n",
       "      <th>1</th>\n",
       "      <td>10:15 AM - 12:15 PM</td>\n",
       "      <td>[MWF 10-10:59 am, MW 10-10:59 am, M 10-11:59 a...</td>\n",
       "      <td>[TuTh 11-11:59 am, Tu 10-11:59 am]</td>\n",
       "      <td>[MWF 11-11:59 am, MW 11-11:59 am, WF 11-11:59 ...</td>\n",
       "      <td>[TuTh 10-10:59 am, Th 10-11:59 am]</td>\n",
       "      <td>[FS 10-10:59 am, F 10-11:59 am, MF 11-11:59 am...</td>\n",
       "    </tr>\n",
       "    <tr>\n",
       "      <th>2</th>\n",
       "      <td>12:45 PM - 2:45 PM</td>\n",
       "      <td>[MWF 12-12:59 pm, MW 12-12:59 pm, M 12-1:59 pm...</td>\n",
       "      <td>[TuTh 1-1:59 pm, Tu 12-1:59 pm]</td>\n",
       "      <td>[MWF 1-1:59 pm, MW 1-1:59 pm, W 12-1:59 pm, WF...</td>\n",
       "      <td>[TuTh 12-12:59 pm, Th 12-1:59 pm]</td>\n",
       "      <td>[FS 12-12:59 pm, F 12-1:59 pm, WF 12-12:59 pm,...</td>\n",
       "    </tr>\n",
       "    <tr>\n",
       "      <th>3</th>\n",
       "      <td>3 PM - 5 PM</td>\n",
       "      <td>[MWF 2-2:59 pm, MW 2-2:59 pm, M 2-2:59 pm, MF ...</td>\n",
       "      <td>[TuTh 3-3:59 pm, Tu 2-2:59 pm]</td>\n",
       "      <td>[MWF 3-5:59 pm, MW 3-3:59 pm, W 2-2:59 pm, WF ...</td>\n",
       "      <td>[TuTh 2-2:59 pm, Th 2-2:59 pm]</td>\n",
       "      <td>[FS 2-2:59 pm, F 2-3:59 pm, MF 3-3:59 pm, WF 2...</td>\n",
       "    </tr>\n",
       "    <tr>\n",
       "      <th>4</th>\n",
       "      <td>5:30 PM - 7:30 PM</td>\n",
       "      <td>[MWF 4-4:59 pm, MW 4-4:59 pm, M 3-5:59 pm, MF ...</td>\n",
       "      <td>[TuTh 5-5:59 pm, Tu 3-5:59 pm]</td>\n",
       "      <td>[MWF 5-5:59 pm, MW 5-5:59 pm, W 3-5:59 pm, WF ...</td>\n",
       "      <td>[TuTh 4-4:59 pm, Th 3-5:59 pm]</td>\n",
       "      <td>[FS 4-4:59 pm, F 4-5:59 pm, WF 4-4:59 pm, MF 5...</td>\n",
       "    </tr>\n",
       "    <tr>\n",
       "      <th>5</th>\n",
       "      <td>8 PM - 10 PM</td>\n",
       "      <td>[MW 6-7:59 pm, M 6-9:59 pm]</td>\n",
       "      <td>[TuTh 8-9:59 pm, Tu 6-9:59 pm]</td>\n",
       "      <td>[W 6-9:59 pm, MW 8-9:59 pm]</td>\n",
       "      <td>[TuTh 6-7:59 pm, Th 6-9:59 pm]</td>\n",
       "      <td>[FS 6-9:59 pm, F 6-9:59 pm]</td>\n",
       "    </tr>\n",
       "  </tbody>\n",
       "</table>\n",
       "</div>"
      ],
      "text/plain": [
       "           time / date                                          Mon Dec 9  \\\n",
       "0          8 AM -10 AM  [MWF 8-8:59 am, MW 7-8:59 am, M 7-9:59 am, MF ...   \n",
       "1  10:15 AM - 12:15 PM  [MWF 10-10:59 am, MW 10-10:59 am, M 10-11:59 a...   \n",
       "2   12:45 PM - 2:45 PM  [MWF 12-12:59 pm, MW 12-12:59 pm, M 12-1:59 pm...   \n",
       "3          3 PM - 5 PM  [MWF 2-2:59 pm, MW 2-2:59 pm, M 2-2:59 pm, MF ...   \n",
       "4    5:30 PM - 7:30 PM  [MWF 4-4:59 pm, MW 4-4:59 pm, M 3-5:59 pm, MF ...   \n",
       "5         8 PM - 10 PM                        [MW 6-7:59 pm, M 6-9:59 pm]   \n",
       "\n",
       "                           Tue Dec 10  \\\n",
       "0      [TuTh 9-9:59 am, Tu 7-9:59 am]   \n",
       "1  [TuTh 11-11:59 am, Tu 10-11:59 am]   \n",
       "2     [TuTh 1-1:59 pm, Tu 12-1:59 pm]   \n",
       "3      [TuTh 3-3:59 pm, Tu 2-2:59 pm]   \n",
       "4      [TuTh 5-5:59 pm, Tu 3-5:59 pm]   \n",
       "5      [TuTh 8-9:59 pm, Tu 6-9:59 pm]   \n",
       "\n",
       "                                          Wed Dec 11  \\\n",
       "0  [MWF 9-9:59 am, MW 9-9:59 am, WF 9-9:59 am, W ...   \n",
       "1  [MWF 11-11:59 am, MW 11-11:59 am, WF 11-11:59 ...   \n",
       "2  [MWF 1-1:59 pm, MW 1-1:59 pm, W 12-1:59 pm, WF...   \n",
       "3  [MWF 3-5:59 pm, MW 3-3:59 pm, W 2-2:59 pm, WF ...   \n",
       "4  [MWF 5-5:59 pm, MW 5-5:59 pm, W 3-5:59 pm, WF ...   \n",
       "5                        [W 6-9:59 pm, MW 8-9:59 pm]   \n",
       "\n",
       "                         Thurs Dec 12  \\\n",
       "0                                  []   \n",
       "1  [TuTh 10-10:59 am, Th 10-11:59 am]   \n",
       "2   [TuTh 12-12:59 pm, Th 12-1:59 pm]   \n",
       "3      [TuTh 2-2:59 pm, Th 2-2:59 pm]   \n",
       "4      [TuTh 4-4:59 pm, Th 3-5:59 pm]   \n",
       "5      [TuTh 6-7:59 pm, Th 6-9:59 pm]   \n",
       "\n",
       "                                          Fri Dec 13  \n",
       "0  [FS 8-8:59 am, F 8-9:59 am, WF 8-8:59 am, MF 9...  \n",
       "1  [FS 10-10:59 am, F 10-11:59 am, MF 11-11:59 am...  \n",
       "2  [FS 12-12:59 pm, F 12-1:59 pm, WF 12-12:59 pm,...  \n",
       "3  [FS 2-2:59 pm, F 2-3:59 pm, MF 3-3:59 pm, WF 2...  \n",
       "4  [FS 4-4:59 pm, F 4-5:59 pm, WF 4-4:59 pm, MF 5...  \n",
       "5                        [FS 6-9:59 pm, F 6-9:59 pm]  "
      ]
     },
     "execution_count": 107,
     "metadata": {},
     "output_type": "execute_result"
    }
   ],
   "source": [
    "table_df"
   ]
  },
  {
   "cell_type": "markdown",
   "metadata": {},
   "source": [
    "# Area of concern this row doesn't do well with the regex"
   ]
  },
  {
   "cell_type": "code",
   "execution_count": 71,
   "metadata": {},
   "outputs": [
    {
     "data": {
      "text/plain": [
       "[]"
      ]
     },
     "execution_count": 71,
     "metadata": {},
     "output_type": "execute_result"
    }
   ],
   "source": [
    "table_df.loc[1, 'Mon Dec 9']"
   ]
  },
  {
   "cell_type": "code",
   "execution_count": 7,
   "metadata": {},
   "outputs": [],
   "source": []
  },
  {
   "cell_type": "code",
   "execution_count": null,
   "metadata": {},
   "outputs": [],
   "source": []
  },
  {
   "cell_type": "code",
   "execution_count": 60,
   "metadata": {},
   "outputs": [],
   "source": [
    "#The goups of days that's present in the table\n",
    "list_of_days=[\"MFW\",'MW','M','MF','TuTh','Tu','WF','W','Th','FS','F']"
   ]
  },
  {
   "cell_type": "code",
   "execution_count": 9,
   "metadata": {},
   "outputs": [],
   "source": []
  },
  {
   "cell_type": "code",
   "execution_count": 12,
   "metadata": {},
   "outputs": [],
   "source": [
    "    "
   ]
  },
  {
   "cell_type": "code",
   "execution_count": 24,
   "metadata": {},
   "outputs": [],
   "source": [
    "string_val = table_df.loc[4,'Mon Dec 9']\n",
    "result = re.findall(\"\\w+ [0-9]+-[0-9]:[0-9]+ [ap]m\", string_val)\n",
    "class_days =dict()\n",
    "for days in list_of_days:\n",
    "    class_days[days] = 0   "
   ]
  },
  {
   "cell_type": "code",
   "execution_count": 21,
   "metadata": {},
   "outputs": [],
   "source": [
    "def numb_of_occurence_for_each_day():\n",
    "    string_val = table_df.loc[4,'Mon Dec 9']\n",
    "    result = re.findall(\"\\w+ [0-9]+-[0-9]:[0-9]+ [ap]m\", string_val)\n",
    "    for entry in result:\n",
    "        if 'MFW' in entry:\n",
    "            class_days['MFW']+=1\n",
    "        elif 'MW' in entry:\n",
    "            class_days['MW'] +=1\n",
    "        elif 'M' in entry:\n",
    "            class_days['M'] +=1\n",
    "        elif 'MF' in entry:\n",
    "            class_days['MF'] +=1\n",
    "        elif 'TuTh' in entry:\n",
    "            class_days['TuTh'] +=1\n",
    "        elif 'Tu' in entry:\n",
    "            class_days['Tu'] +=1\n",
    "        elif 'WF' in entry:\n",
    "            class_days['WF'] +=1\n",
    "        elif 'W' in entry:\n",
    "            class_days['W'] +=1\n",
    "        elif 'Th' in entry:\n",
    "            class_days['Th'] +=1\n",
    "        elif 'FS' in entry:\n",
    "            class_days['FS'] +=1\n",
    "        elif 'F' in entry:\n",
    "            class_days['F'] +=1\n",
    "    "
   ]
  },
  {
   "cell_type": "code",
   "execution_count": 36,
   "metadata": {},
   "outputs": [
    {
     "name": "stdout",
     "output_type": "stream",
     "text": [
      "MWF 8-8:59 am MW 7-8:59 am M 7-9:59 am MF 8-8:59 am \n",
      "\n",
      "MWF 10-10:59 am MW 10-10:59 am M 10-11:59 am MF 10-10:59 am \n",
      "\n",
      "MWF 12-12:59 pm MW 12-12:59 pm M 12-1:59 pm MF 12-12:59 pm \n",
      "\n",
      "MWF 2-2:59 pm MW 2-2:59 pm M 2-2:59 pm MF 2-2:59 pm \n",
      "\n",
      "MWF 4-4:59 pm MW 4-4:59 pm M 3-5:59 pm MF 4-4:59 pm \n",
      "\n",
      "MW 6-7:59 pm M 6-9:59 pm \n",
      "\n"
     ]
    }
   ],
   "source": [
    "table_df.loc[:,'Mon Dec 9'].map(lambda x: print(x, '\\n'));"
   ]
  },
  {
   "cell_type": "code",
   "execution_count": null,
   "metadata": {},
   "outputs": [],
   "source": []
  }
 ],
 "metadata": {
  "kernelspec": {
   "display_name": "Python 3",
   "language": "python",
   "name": "python3"
  },
  "language_info": {
   "codemirror_mode": {
    "name": "ipython",
    "version": 3
   },
   "file_extension": ".py",
   "mimetype": "text/x-python",
   "name": "python",
   "nbconvert_exporter": "python",
   "pygments_lexer": "ipython3",
   "version": "3.7.1"
  }
 },
 "nbformat": 4,
 "nbformat_minor": 2
}
