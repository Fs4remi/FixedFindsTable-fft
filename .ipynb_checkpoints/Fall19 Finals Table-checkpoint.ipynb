{
 "cells": [
  {
   "cell_type": "code",
   "execution_count": 1,
   "metadata": {},
   "outputs": [],
   "source": [
    "import pandas as pd\n",
    "import re"
   ]
  },
  {
   "cell_type": "code",
   "execution_count": 3,
   "metadata": {},
   "outputs": [],
   "source": [
    "tables = pd.read_html(\"http://www.csueastbay.edu/students/academics-and-studying/finals/fall.html\")"
   ]
  },
  {
   "cell_type": "code",
   "execution_count": 13,
   "metadata": {},
   "outputs": [
    {
     "data": {
      "text/html": [
       "<div>\n",
       "<style scoped>\n",
       "    .dataframe tbody tr th:only-of-type {\n",
       "        vertical-align: middle;\n",
       "    }\n",
       "\n",
       "    .dataframe tbody tr th {\n",
       "        vertical-align: top;\n",
       "    }\n",
       "\n",
       "    .dataframe thead th {\n",
       "        text-align: right;\n",
       "    }\n",
       "</style>\n",
       "<table border=\"1\" class=\"dataframe\">\n",
       "  <thead>\n",
       "    <tr style=\"text-align: right;\">\n",
       "      <th></th>\n",
       "      <th>0</th>\n",
       "      <th>1</th>\n",
       "      <th>2</th>\n",
       "      <th>3</th>\n",
       "      <th>4</th>\n",
       "      <th>5</th>\n",
       "    </tr>\n",
       "  </thead>\n",
       "  <tbody>\n",
       "    <tr>\n",
       "      <th>0</th>\n",
       "      <td>Time of Final / Date of Final</td>\n",
       "      <td>Monday, December 9, 2019</td>\n",
       "      <td>Tuesday, December 10, 2019</td>\n",
       "      <td>Wednesday, December 11, 2019</td>\n",
       "      <td>Thursday, December 12, 2019</td>\n",
       "      <td>Friday, December 13, 2019</td>\n",
       "    </tr>\n",
       "    <tr>\n",
       "      <th>1</th>\n",
       "      <td>8 AM -10 AM</td>\n",
       "      <td>MWF 8-8:59 am MW 7-8:59 am M 7-9:59 am MF 8-8:...</td>\n",
       "      <td>TuTh 9-9:59 am Tu 7-9:59 am</td>\n",
       "      <td>MWF 9-9:59 am MW 9-9:59 am WF 9-9:59 am W 7-9:...</td>\n",
       "      <td>TuTh 6:30-8:59 am Th 6:30-9:59 am</td>\n",
       "      <td>FS 8-8:59 am F 8-9:59 am WF 8-8:59 am MF 9-9:5...</td>\n",
       "    </tr>\n",
       "    <tr>\n",
       "      <th>2</th>\n",
       "      <td>10:15 AM - 12:15 PM</td>\n",
       "      <td>MWF 10-10:59 am MW 10-10:59 am M 10-11:59 am M...</td>\n",
       "      <td>TuTh 11-11:59 am Tu 10-11:59 am</td>\n",
       "      <td>MWF 11-11:59 am MW 11-11:59 am WF 11-11:59 am ...</td>\n",
       "      <td>TuTh 10-10:59 am Th 10-11:59 am</td>\n",
       "      <td>FS 10-10:59 am F 10-11:59 am MF 11-11:59 am WF...</td>\n",
       "    </tr>\n",
       "    <tr>\n",
       "      <th>3</th>\n",
       "      <td>12:45 PM - 2:45 PM</td>\n",
       "      <td>MWF 12-12:59 pm MW 12-12:59 pm M 12-1:59 pm MF...</td>\n",
       "      <td>TuTh 1-1:59 pm Tu 12-1:59 pm</td>\n",
       "      <td>MWF 1-1:59 pm MW 1-1:59 pm W 12-1:59 pm WF 1-1...</td>\n",
       "      <td>TuTh 12-12:59 pm Th 12-1:59 pm</td>\n",
       "      <td>FS 12-12:59 pm F 12-1:59 pm WF 12-12:59 pm MF ...</td>\n",
       "    </tr>\n",
       "    <tr>\n",
       "      <th>4</th>\n",
       "      <td>3 PM - 5 PM</td>\n",
       "      <td>MWF 2-2:59 pm MW 2-2:59 pm M 2-2:59 pm MF 2-2:...</td>\n",
       "      <td>TuTh 3-3:59 pm Tu 2-2:59 pm</td>\n",
       "      <td>MWF 3-5:59 pm MW 3-3:59 pm W 2-2:59 pm WF 3-3:...</td>\n",
       "      <td>TuTh 2-2:59 pm Th 2-2:59 pm</td>\n",
       "      <td>FS 2-2:59 pm F 2-3:59 pm MF 3-3:59 pm WF 2-2:5...</td>\n",
       "    </tr>\n",
       "    <tr>\n",
       "      <th>5</th>\n",
       "      <td>5:30 PM - 7:30 PM</td>\n",
       "      <td>MWF 4-4:59 pm MW 4-4:59 pm M 3-5:59 pm MF 4-4:...</td>\n",
       "      <td>TuTh 5-5:59 pm Tu 3-5:59 pm</td>\n",
       "      <td>MWF 5-5:59 pm MW 5-5:59 pm W 3-5:59 pm WF 5-5:...</td>\n",
       "      <td>TuTh 4-4:59 pm Th 3-5:59 pm</td>\n",
       "      <td>FS 4-4:59 pm F 4-5:59 pm WF 4-4:59 pm MF 5-5:5...</td>\n",
       "    </tr>\n",
       "    <tr>\n",
       "      <th>6</th>\n",
       "      <td>8 PM - 10 PM</td>\n",
       "      <td>MW 6-7:59 pm M 6-9:59 pm</td>\n",
       "      <td>TuTh 8-9:59 pm Tu 6-9:59 pm</td>\n",
       "      <td>W 6-9:59 pm MW 8-9:59 pm</td>\n",
       "      <td>TuTh 6-7:59 pm Th 6-9:59 pm</td>\n",
       "      <td>FS 6-9:59 pm F 6-9:59 pm</td>\n",
       "    </tr>\n",
       "  </tbody>\n",
       "</table>\n",
       "</div>"
      ],
      "text/plain": [
       "                               0  \\\n",
       "0  Time of Final / Date of Final   \n",
       "1                    8 AM -10 AM   \n",
       "2            10:15 AM - 12:15 PM   \n",
       "3             12:45 PM - 2:45 PM   \n",
       "4                    3 PM - 5 PM   \n",
       "5              5:30 PM - 7:30 PM   \n",
       "6                   8 PM - 10 PM   \n",
       "\n",
       "                                                   1  \\\n",
       "0                           Monday, December 9, 2019   \n",
       "1  MWF 8-8:59 am MW 7-8:59 am M 7-9:59 am MF 8-8:...   \n",
       "2  MWF 10-10:59 am MW 10-10:59 am M 10-11:59 am M...   \n",
       "3  MWF 12-12:59 pm MW 12-12:59 pm M 12-1:59 pm MF...   \n",
       "4  MWF 2-2:59 pm MW 2-2:59 pm M 2-2:59 pm MF 2-2:...   \n",
       "5  MWF 4-4:59 pm MW 4-4:59 pm M 3-5:59 pm MF 4-4:...   \n",
       "6                           MW 6-7:59 pm M 6-9:59 pm   \n",
       "\n",
       "                                 2  \\\n",
       "0       Tuesday, December 10, 2019   \n",
       "1      TuTh 9-9:59 am Tu 7-9:59 am   \n",
       "2  TuTh 11-11:59 am Tu 10-11:59 am   \n",
       "3     TuTh 1-1:59 pm Tu 12-1:59 pm   \n",
       "4      TuTh 3-3:59 pm Tu 2-2:59 pm   \n",
       "5      TuTh 5-5:59 pm Tu 3-5:59 pm   \n",
       "6      TuTh 8-9:59 pm Tu 6-9:59 pm   \n",
       "\n",
       "                                                   3  \\\n",
       "0                       Wednesday, December 11, 2019   \n",
       "1  MWF 9-9:59 am MW 9-9:59 am WF 9-9:59 am W 7-9:...   \n",
       "2  MWF 11-11:59 am MW 11-11:59 am WF 11-11:59 am ...   \n",
       "3  MWF 1-1:59 pm MW 1-1:59 pm W 12-1:59 pm WF 1-1...   \n",
       "4  MWF 3-5:59 pm MW 3-3:59 pm W 2-2:59 pm WF 3-3:...   \n",
       "5  MWF 5-5:59 pm MW 5-5:59 pm W 3-5:59 pm WF 5-5:...   \n",
       "6                           W 6-9:59 pm MW 8-9:59 pm   \n",
       "\n",
       "                                   4  \\\n",
       "0        Thursday, December 12, 2019   \n",
       "1  TuTh 6:30-8:59 am Th 6:30-9:59 am   \n",
       "2    TuTh 10-10:59 am Th 10-11:59 am   \n",
       "3     TuTh 12-12:59 pm Th 12-1:59 pm   \n",
       "4        TuTh 2-2:59 pm Th 2-2:59 pm   \n",
       "5        TuTh 4-4:59 pm Th 3-5:59 pm   \n",
       "6        TuTh 6-7:59 pm Th 6-9:59 pm   \n",
       "\n",
       "                                                   5  \n",
       "0                          Friday, December 13, 2019  \n",
       "1  FS 8-8:59 am F 8-9:59 am WF 8-8:59 am MF 9-9:5...  \n",
       "2  FS 10-10:59 am F 10-11:59 am MF 11-11:59 am WF...  \n",
       "3  FS 12-12:59 pm F 12-1:59 pm WF 12-12:59 pm MF ...  \n",
       "4  FS 2-2:59 pm F 2-3:59 pm MF 3-3:59 pm WF 2-2:5...  \n",
       "5  FS 4-4:59 pm F 4-5:59 pm WF 4-4:59 pm MF 5-5:5...  \n",
       "6                           FS 6-9:59 pm F 6-9:59 pm  "
      ]
     },
     "execution_count": 13,
     "metadata": {},
     "output_type": "execute_result"
    }
   ],
   "source": [
    "tables[0].head(10)"
   ]
  },
  {
   "cell_type": "code",
   "execution_count": 2,
   "metadata": {},
   "outputs": [],
   "source": [
    "table_df = pd.read_html(\"http://www.csueastbay.edu/students/academics-and-studying/finals/fall.html\", header = 0)"
   ]
  },
  {
   "cell_type": "code",
   "execution_count": 19,
   "metadata": {},
   "outputs": [
    {
     "data": {
      "text/plain": [
       "1"
      ]
     },
     "execution_count": 19,
     "metadata": {},
     "output_type": "execute_result"
    }
   ],
   "source": [
    "len(table_df)"
   ]
  },
  {
   "cell_type": "code",
   "execution_count": 3,
   "metadata": {},
   "outputs": [],
   "source": [
    "table_df = table_df[0]"
   ]
  },
  {
   "cell_type": "code",
   "execution_count": 4,
   "metadata": {},
   "outputs": [
    {
     "data": {
      "text/html": [
       "<div>\n",
       "<style scoped>\n",
       "    .dataframe tbody tr th:only-of-type {\n",
       "        vertical-align: middle;\n",
       "    }\n",
       "\n",
       "    .dataframe tbody tr th {\n",
       "        vertical-align: top;\n",
       "    }\n",
       "\n",
       "    .dataframe thead th {\n",
       "        text-align: right;\n",
       "    }\n",
       "</style>\n",
       "<table border=\"1\" class=\"dataframe\">\n",
       "  <thead>\n",
       "    <tr style=\"text-align: right;\">\n",
       "      <th></th>\n",
       "      <th>Time of Final / Date of Final</th>\n",
       "      <th>Monday, December 9, 2019</th>\n",
       "      <th>Tuesday, December 10, 2019</th>\n",
       "      <th>Wednesday, December 11, 2019</th>\n",
       "      <th>Thursday, December 12, 2019</th>\n",
       "      <th>Friday, December 13, 2019</th>\n",
       "    </tr>\n",
       "  </thead>\n",
       "  <tbody>\n",
       "    <tr>\n",
       "      <th>0</th>\n",
       "      <td>8 AM -10 AM</td>\n",
       "      <td>MWF 8-8:59 am MW 7-8:59 am M 7-9:59 am MF 8-8:...</td>\n",
       "      <td>TuTh 9-9:59 am Tu 7-9:59 am</td>\n",
       "      <td>MWF 9-9:59 am MW 9-9:59 am WF 9-9:59 am W 7-9:...</td>\n",
       "      <td>TuTh 6:30-8:59 am Th 6:30-9:59 am</td>\n",
       "      <td>FS 8-8:59 am F 8-9:59 am WF 8-8:59 am MF 9-9:5...</td>\n",
       "    </tr>\n",
       "    <tr>\n",
       "      <th>1</th>\n",
       "      <td>10:15 AM - 12:15 PM</td>\n",
       "      <td>MWF 10-10:59 am MW 10-10:59 am M 10-11:59 am M...</td>\n",
       "      <td>TuTh 11-11:59 am Tu 10-11:59 am</td>\n",
       "      <td>MWF 11-11:59 am MW 11-11:59 am WF 11-11:59 am ...</td>\n",
       "      <td>TuTh 10-10:59 am Th 10-11:59 am</td>\n",
       "      <td>FS 10-10:59 am F 10-11:59 am MF 11-11:59 am WF...</td>\n",
       "    </tr>\n",
       "    <tr>\n",
       "      <th>2</th>\n",
       "      <td>12:45 PM - 2:45 PM</td>\n",
       "      <td>MWF 12-12:59 pm MW 12-12:59 pm M 12-1:59 pm MF...</td>\n",
       "      <td>TuTh 1-1:59 pm Tu 12-1:59 pm</td>\n",
       "      <td>MWF 1-1:59 pm MW 1-1:59 pm W 12-1:59 pm WF 1-1...</td>\n",
       "      <td>TuTh 12-12:59 pm Th 12-1:59 pm</td>\n",
       "      <td>FS 12-12:59 pm F 12-1:59 pm WF 12-12:59 pm MF ...</td>\n",
       "    </tr>\n",
       "    <tr>\n",
       "      <th>3</th>\n",
       "      <td>3 PM - 5 PM</td>\n",
       "      <td>MWF 2-2:59 pm MW 2-2:59 pm M 2-2:59 pm MF 2-2:...</td>\n",
       "      <td>TuTh 3-3:59 pm Tu 2-2:59 pm</td>\n",
       "      <td>MWF 3-5:59 pm MW 3-3:59 pm W 2-2:59 pm WF 3-3:...</td>\n",
       "      <td>TuTh 2-2:59 pm Th 2-2:59 pm</td>\n",
       "      <td>FS 2-2:59 pm F 2-3:59 pm MF 3-3:59 pm WF 2-2:5...</td>\n",
       "    </tr>\n",
       "    <tr>\n",
       "      <th>4</th>\n",
       "      <td>5:30 PM - 7:30 PM</td>\n",
       "      <td>MWF 4-4:59 pm MW 4-4:59 pm M 3-5:59 pm MF 4-4:...</td>\n",
       "      <td>TuTh 5-5:59 pm Tu 3-5:59 pm</td>\n",
       "      <td>MWF 5-5:59 pm MW 5-5:59 pm W 3-5:59 pm WF 5-5:...</td>\n",
       "      <td>TuTh 4-4:59 pm Th 3-5:59 pm</td>\n",
       "      <td>FS 4-4:59 pm F 4-5:59 pm WF 4-4:59 pm MF 5-5:5...</td>\n",
       "    </tr>\n",
       "    <tr>\n",
       "      <th>5</th>\n",
       "      <td>8 PM - 10 PM</td>\n",
       "      <td>MW 6-7:59 pm M 6-9:59 pm</td>\n",
       "      <td>TuTh 8-9:59 pm Tu 6-9:59 pm</td>\n",
       "      <td>W 6-9:59 pm MW 8-9:59 pm</td>\n",
       "      <td>TuTh 6-7:59 pm Th 6-9:59 pm</td>\n",
       "      <td>FS 6-9:59 pm F 6-9:59 pm</td>\n",
       "    </tr>\n",
       "  </tbody>\n",
       "</table>\n",
       "</div>"
      ],
      "text/plain": [
       "  Time of Final / Date of Final  \\\n",
       "0                   8 AM -10 AM   \n",
       "1           10:15 AM - 12:15 PM   \n",
       "2            12:45 PM - 2:45 PM   \n",
       "3                   3 PM - 5 PM   \n",
       "4             5:30 PM - 7:30 PM   \n",
       "5                  8 PM - 10 PM   \n",
       "\n",
       "                            Monday, December 9, 2019  \\\n",
       "0  MWF 8-8:59 am MW 7-8:59 am M 7-9:59 am MF 8-8:...   \n",
       "1  MWF 10-10:59 am MW 10-10:59 am M 10-11:59 am M...   \n",
       "2  MWF 12-12:59 pm MW 12-12:59 pm M 12-1:59 pm MF...   \n",
       "3  MWF 2-2:59 pm MW 2-2:59 pm M 2-2:59 pm MF 2-2:...   \n",
       "4  MWF 4-4:59 pm MW 4-4:59 pm M 3-5:59 pm MF 4-4:...   \n",
       "5                           MW 6-7:59 pm M 6-9:59 pm   \n",
       "\n",
       "        Tuesday, December 10, 2019  \\\n",
       "0      TuTh 9-9:59 am Tu 7-9:59 am   \n",
       "1  TuTh 11-11:59 am Tu 10-11:59 am   \n",
       "2     TuTh 1-1:59 pm Tu 12-1:59 pm   \n",
       "3      TuTh 3-3:59 pm Tu 2-2:59 pm   \n",
       "4      TuTh 5-5:59 pm Tu 3-5:59 pm   \n",
       "5      TuTh 8-9:59 pm Tu 6-9:59 pm   \n",
       "\n",
       "                        Wednesday, December 11, 2019  \\\n",
       "0  MWF 9-9:59 am MW 9-9:59 am WF 9-9:59 am W 7-9:...   \n",
       "1  MWF 11-11:59 am MW 11-11:59 am WF 11-11:59 am ...   \n",
       "2  MWF 1-1:59 pm MW 1-1:59 pm W 12-1:59 pm WF 1-1...   \n",
       "3  MWF 3-5:59 pm MW 3-3:59 pm W 2-2:59 pm WF 3-3:...   \n",
       "4  MWF 5-5:59 pm MW 5-5:59 pm W 3-5:59 pm WF 5-5:...   \n",
       "5                           W 6-9:59 pm MW 8-9:59 pm   \n",
       "\n",
       "         Thursday, December 12, 2019  \\\n",
       "0  TuTh 6:30-8:59 am Th 6:30-9:59 am   \n",
       "1    TuTh 10-10:59 am Th 10-11:59 am   \n",
       "2     TuTh 12-12:59 pm Th 12-1:59 pm   \n",
       "3        TuTh 2-2:59 pm Th 2-2:59 pm   \n",
       "4        TuTh 4-4:59 pm Th 3-5:59 pm   \n",
       "5        TuTh 6-7:59 pm Th 6-9:59 pm   \n",
       "\n",
       "                           Friday, December 13, 2019  \n",
       "0  FS 8-8:59 am F 8-9:59 am WF 8-8:59 am MF 9-9:5...  \n",
       "1  FS 10-10:59 am F 10-11:59 am MF 11-11:59 am WF...  \n",
       "2  FS 12-12:59 pm F 12-1:59 pm WF 12-12:59 pm MF ...  \n",
       "3  FS 2-2:59 pm F 2-3:59 pm MF 3-3:59 pm WF 2-2:5...  \n",
       "4  FS 4-4:59 pm F 4-5:59 pm WF 4-4:59 pm MF 5-5:5...  \n",
       "5                           FS 6-9:59 pm F 6-9:59 pm  "
      ]
     },
     "execution_count": 4,
     "metadata": {},
     "output_type": "execute_result"
    }
   ],
   "source": [
    "table_df.head(10)"
   ]
  },
  {
   "cell_type": "code",
   "execution_count": 4,
   "metadata": {},
   "outputs": [],
   "source": [
    "clean_table_titles = ['time / date', 'Mon Dec 9', 'Tue Dec 10', 'Wed Dec 11','Thurs Dec 12', 'Fri Dec 13']\n",
    "table_df.columns = clean_table_titles"
   ]
  },
  {
   "cell_type": "code",
   "execution_count": 6,
   "metadata": {},
   "outputs": [
    {
     "data": {
      "text/html": [
       "<div>\n",
       "<style scoped>\n",
       "    .dataframe tbody tr th:only-of-type {\n",
       "        vertical-align: middle;\n",
       "    }\n",
       "\n",
       "    .dataframe tbody tr th {\n",
       "        vertical-align: top;\n",
       "    }\n",
       "\n",
       "    .dataframe thead th {\n",
       "        text-align: right;\n",
       "    }\n",
       "</style>\n",
       "<table border=\"1\" class=\"dataframe\">\n",
       "  <thead>\n",
       "    <tr style=\"text-align: right;\">\n",
       "      <th></th>\n",
       "      <th>time / date</th>\n",
       "      <th>Mon Dec 9</th>\n",
       "      <th>Tue Dec 10</th>\n",
       "      <th>Wed Dec 11</th>\n",
       "      <th>Thurs Dec 12</th>\n",
       "      <th>Fri Dec 13</th>\n",
       "    </tr>\n",
       "  </thead>\n",
       "  <tbody>\n",
       "    <tr>\n",
       "      <th>0</th>\n",
       "      <td>8 AM -10 AM</td>\n",
       "      <td>MWF 8-8:59 am MW 7-8:59 am M 7-9:59 am MF 8-8:...</td>\n",
       "      <td>TuTh 9-9:59 am Tu 7-9:59 am</td>\n",
       "      <td>MWF 9-9:59 am MW 9-9:59 am WF 9-9:59 am W 7-9:...</td>\n",
       "      <td>TuTh 6:30-8:59 am Th 6:30-9:59 am</td>\n",
       "      <td>FS 8-8:59 am F 8-9:59 am WF 8-8:59 am MF 9-9:5...</td>\n",
       "    </tr>\n",
       "    <tr>\n",
       "      <th>1</th>\n",
       "      <td>10:15 AM - 12:15 PM</td>\n",
       "      <td>MWF 10-10:59 am MW 10-10:59 am M 10-11:59 am M...</td>\n",
       "      <td>TuTh 11-11:59 am Tu 10-11:59 am</td>\n",
       "      <td>MWF 11-11:59 am MW 11-11:59 am WF 11-11:59 am ...</td>\n",
       "      <td>TuTh 10-10:59 am Th 10-11:59 am</td>\n",
       "      <td>FS 10-10:59 am F 10-11:59 am MF 11-11:59 am WF...</td>\n",
       "    </tr>\n",
       "    <tr>\n",
       "      <th>2</th>\n",
       "      <td>12:45 PM - 2:45 PM</td>\n",
       "      <td>MWF 12-12:59 pm MW 12-12:59 pm M 12-1:59 pm MF...</td>\n",
       "      <td>TuTh 1-1:59 pm Tu 12-1:59 pm</td>\n",
       "      <td>MWF 1-1:59 pm MW 1-1:59 pm W 12-1:59 pm WF 1-1...</td>\n",
       "      <td>TuTh 12-12:59 pm Th 12-1:59 pm</td>\n",
       "      <td>FS 12-12:59 pm F 12-1:59 pm WF 12-12:59 pm MF ...</td>\n",
       "    </tr>\n",
       "    <tr>\n",
       "      <th>3</th>\n",
       "      <td>3 PM - 5 PM</td>\n",
       "      <td>MWF 2-2:59 pm MW 2-2:59 pm M 2-2:59 pm MF 2-2:...</td>\n",
       "      <td>TuTh 3-3:59 pm Tu 2-2:59 pm</td>\n",
       "      <td>MWF 3-5:59 pm MW 3-3:59 pm W 2-2:59 pm WF 3-3:...</td>\n",
       "      <td>TuTh 2-2:59 pm Th 2-2:59 pm</td>\n",
       "      <td>FS 2-2:59 pm F 2-3:59 pm MF 3-3:59 pm WF 2-2:5...</td>\n",
       "    </tr>\n",
       "    <tr>\n",
       "      <th>4</th>\n",
       "      <td>5:30 PM - 7:30 PM</td>\n",
       "      <td>MWF 4-4:59 pm MW 4-4:59 pm M 3-5:59 pm MF 4-4:...</td>\n",
       "      <td>TuTh 5-5:59 pm Tu 3-5:59 pm</td>\n",
       "      <td>MWF 5-5:59 pm MW 5-5:59 pm W 3-5:59 pm WF 5-5:...</td>\n",
       "      <td>TuTh 4-4:59 pm Th 3-5:59 pm</td>\n",
       "      <td>FS 4-4:59 pm F 4-5:59 pm WF 4-4:59 pm MF 5-5:5...</td>\n",
       "    </tr>\n",
       "    <tr>\n",
       "      <th>5</th>\n",
       "      <td>8 PM - 10 PM</td>\n",
       "      <td>MW 6-7:59 pm M 6-9:59 pm</td>\n",
       "      <td>TuTh 8-9:59 pm Tu 6-9:59 pm</td>\n",
       "      <td>W 6-9:59 pm MW 8-9:59 pm</td>\n",
       "      <td>TuTh 6-7:59 pm Th 6-9:59 pm</td>\n",
       "      <td>FS 6-9:59 pm F 6-9:59 pm</td>\n",
       "    </tr>\n",
       "  </tbody>\n",
       "</table>\n",
       "</div>"
      ],
      "text/plain": [
       "           time / date                                          Mon Dec 9  \\\n",
       "0          8 AM -10 AM  MWF 8-8:59 am MW 7-8:59 am M 7-9:59 am MF 8-8:...   \n",
       "1  10:15 AM - 12:15 PM  MWF 10-10:59 am MW 10-10:59 am M 10-11:59 am M...   \n",
       "2   12:45 PM - 2:45 PM  MWF 12-12:59 pm MW 12-12:59 pm M 12-1:59 pm MF...   \n",
       "3          3 PM - 5 PM  MWF 2-2:59 pm MW 2-2:59 pm M 2-2:59 pm MF 2-2:...   \n",
       "4    5:30 PM - 7:30 PM  MWF 4-4:59 pm MW 4-4:59 pm M 3-5:59 pm MF 4-4:...   \n",
       "5         8 PM - 10 PM                           MW 6-7:59 pm M 6-9:59 pm   \n",
       "\n",
       "                        Tue Dec 10  \\\n",
       "0      TuTh 9-9:59 am Tu 7-9:59 am   \n",
       "1  TuTh 11-11:59 am Tu 10-11:59 am   \n",
       "2     TuTh 1-1:59 pm Tu 12-1:59 pm   \n",
       "3      TuTh 3-3:59 pm Tu 2-2:59 pm   \n",
       "4      TuTh 5-5:59 pm Tu 3-5:59 pm   \n",
       "5      TuTh 8-9:59 pm Tu 6-9:59 pm   \n",
       "\n",
       "                                          Wed Dec 11  \\\n",
       "0  MWF 9-9:59 am MW 9-9:59 am WF 9-9:59 am W 7-9:...   \n",
       "1  MWF 11-11:59 am MW 11-11:59 am WF 11-11:59 am ...   \n",
       "2  MWF 1-1:59 pm MW 1-1:59 pm W 12-1:59 pm WF 1-1...   \n",
       "3  MWF 3-5:59 pm MW 3-3:59 pm W 2-2:59 pm WF 3-3:...   \n",
       "4  MWF 5-5:59 pm MW 5-5:59 pm W 3-5:59 pm WF 5-5:...   \n",
       "5                           W 6-9:59 pm MW 8-9:59 pm   \n",
       "\n",
       "                        Thurs Dec 12  \\\n",
       "0  TuTh 6:30-8:59 am Th 6:30-9:59 am   \n",
       "1    TuTh 10-10:59 am Th 10-11:59 am   \n",
       "2     TuTh 12-12:59 pm Th 12-1:59 pm   \n",
       "3        TuTh 2-2:59 pm Th 2-2:59 pm   \n",
       "4        TuTh 4-4:59 pm Th 3-5:59 pm   \n",
       "5        TuTh 6-7:59 pm Th 6-9:59 pm   \n",
       "\n",
       "                                          Fri Dec 13  \n",
       "0  FS 8-8:59 am F 8-9:59 am WF 8-8:59 am MF 9-9:5...  \n",
       "1  FS 10-10:59 am F 10-11:59 am MF 11-11:59 am WF...  \n",
       "2  FS 12-12:59 pm F 12-1:59 pm WF 12-12:59 pm MF ...  \n",
       "3  FS 2-2:59 pm F 2-3:59 pm MF 3-3:59 pm WF 2-2:5...  \n",
       "4  FS 4-4:59 pm F 4-5:59 pm WF 4-4:59 pm MF 5-5:5...  \n",
       "5                           FS 6-9:59 pm F 6-9:59 pm  "
      ]
     },
     "execution_count": 6,
     "metadata": {},
     "output_type": "execute_result"
    }
   ],
   "source": [
    "table_df.head(10)"
   ]
  },
  {
   "cell_type": "code",
   "execution_count": 7,
   "metadata": {},
   "outputs": [
    {
     "data": {
      "text/plain": [
       "'MWF 4-4:59 pm MW 4-4:59 pm M 3-5:59 pm MF 4-4:59 pm'"
      ]
     },
     "execution_count": 7,
     "metadata": {},
     "output_type": "execute_result"
    }
   ],
   "source": [
    "table_df.loc[4,'Mon Dec 9']"
   ]
  },
  {
   "cell_type": "code",
   "execution_count": 8,
   "metadata": {},
   "outputs": [
    {
     "data": {
      "text/plain": [
       "str"
      ]
     },
     "execution_count": 8,
     "metadata": {},
     "output_type": "execute_result"
    }
   ],
   "source": [
    "type(table_df.loc[4,'Mon Dec 9'])"
   ]
  },
  {
   "cell_type": "code",
   "execution_count": 9,
   "metadata": {},
   "outputs": [
    {
     "data": {
      "text/plain": [
       "51"
      ]
     },
     "execution_count": 9,
     "metadata": {},
     "output_type": "execute_result"
    }
   ],
   "source": [
    "len(table_df.loc[4,'Mon Dec 9'])"
   ]
  },
  {
   "cell_type": "code",
   "execution_count": 10,
   "metadata": {},
   "outputs": [],
   "source": [
    "string_val = table_df.loc[4,'Mon Dec 9']\n",
    "result = re.findall(\"\\w+ [0-9]+-[0-9]:[0-9]+ [ap]m\", string_val)"
   ]
  },
  {
   "cell_type": "code",
   "execution_count": 11,
   "metadata": {},
   "outputs": [
    {
     "data": {
      "text/plain": [
       "['MWF 4-4:59 pm', 'MW 4-4:59 pm', 'M 3-5:59 pm', 'MF 4-4:59 pm']"
      ]
     },
     "execution_count": 11,
     "metadata": {},
     "output_type": "execute_result"
    }
   ],
   "source": [
    "result"
   ]
  },
  {
   "cell_type": "code",
   "execution_count": 14,
   "metadata": {},
   "outputs": [],
   "source": [
    "class_days =dict()"
   ]
  },
  {
   "cell_type": "code",
   "execution_count": 16,
   "metadata": {},
   "outputs": [],
   "source": [
    " list_of_days=[\"MFW\",'MW','M','MF','TuTh','Tu','WF','W','Th','FS','F']"
   ]
  },
  {
   "cell_type": "code",
   "execution_count": 17,
   "metadata": {},
   "outputs": [],
   "source": [
    "for days in list_of_days:\n",
    "    class_days[days] = 0\n",
    "        "
   ]
  },
  {
   "cell_type": "code",
   "execution_count": null,
   "metadata": {},
   "outputs": [],
   "source": [
    "for entry in result:\n",
    "    if 'MFW' in entry:\n",
    "        class_days['MFW']+=1\n",
    "    elif 'MW' in entry:\n",
    "        class_days"
   ]
  }
 ],
 "metadata": {
  "kernelspec": {
   "display_name": "Python 3",
   "language": "python",
   "name": "python3"
  },
  "language_info": {
   "codemirror_mode": {
    "name": "ipython",
    "version": 3
   },
   "file_extension": ".py",
   "mimetype": "text/x-python",
   "name": "python",
   "nbconvert_exporter": "python",
   "pygments_lexer": "ipython3",
   "version": "3.7.1"
  }
 },
 "nbformat": 4,
 "nbformat_minor": 2
}
