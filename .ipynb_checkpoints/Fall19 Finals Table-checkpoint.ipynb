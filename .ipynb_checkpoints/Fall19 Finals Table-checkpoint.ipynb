{
 "cells": [
  {
   "cell_type": "code",
   "execution_count": 52,
   "metadata": {},
   "outputs": [],
   "source": [
    "import pandas as pd\n",
    "import re"
   ]
  },
  {
   "cell_type": "code",
   "execution_count": 53,
   "metadata": {},
   "outputs": [],
   "source": [
    "#Creating the data frame\n",
    "table_df = pd.read_html(\"http://www.csueastbay.edu/students/academics-and-studying/finals/fall.html\", header = 0)\n",
    "table_df = table_df[0]\n",
    "clean_table_titles = ['time / date', 'Mon Dec 9', 'Tue Dec 10', 'Wed Dec 11','Thurs Dec 12', 'Fri Dec 13']\n",
    "table_df.columns = clean_table_titles"
   ]
  },
  {
   "cell_type": "code",
   "execution_count": 54,
   "metadata": {},
   "outputs": [
    {
     "data": {
      "text/html": [
       "<div>\n",
       "<style scoped>\n",
       "    .dataframe tbody tr th:only-of-type {\n",
       "        vertical-align: middle;\n",
       "    }\n",
       "\n",
       "    .dataframe tbody tr th {\n",
       "        vertical-align: top;\n",
       "    }\n",
       "\n",
       "    .dataframe thead th {\n",
       "        text-align: right;\n",
       "    }\n",
       "</style>\n",
       "<table border=\"1\" class=\"dataframe\">\n",
       "  <thead>\n",
       "    <tr style=\"text-align: right;\">\n",
       "      <th></th>\n",
       "      <th>time / date</th>\n",
       "      <th>Mon Dec 9</th>\n",
       "      <th>Tue Dec 10</th>\n",
       "      <th>Wed Dec 11</th>\n",
       "      <th>Thurs Dec 12</th>\n",
       "      <th>Fri Dec 13</th>\n",
       "    </tr>\n",
       "  </thead>\n",
       "  <tbody>\n",
       "    <tr>\n",
       "      <th>0</th>\n",
       "      <td>8 AM -10 AM</td>\n",
       "      <td>MWF 8-8:59 am MW 7-8:59 am M 7-9:59 am MF 8-8:...</td>\n",
       "      <td>TuTh 9-9:59 am Tu 7-9:59 am</td>\n",
       "      <td>MWF 9-9:59 am MW 9-9:59 am WF 9-9:59 am W 7-9:...</td>\n",
       "      <td>TuTh 6:30-8:59 am Th 6:30-9:59 am</td>\n",
       "      <td>FS 8-8:59 am F 8-9:59 am WF 8-8:59 am MF 9-9:5...</td>\n",
       "    </tr>\n",
       "  </tbody>\n",
       "</table>\n",
       "</div>"
      ],
      "text/plain": [
       "   time / date                                          Mon Dec 9  \\\n",
       "0  8 AM -10 AM  MWF 8-8:59 am MW 7-8:59 am M 7-9:59 am MF 8-8:...   \n",
       "\n",
       "                    Tue Dec 10  \\\n",
       "0  TuTh 9-9:59 am Tu 7-9:59 am   \n",
       "\n",
       "                                          Wed Dec 11  \\\n",
       "0  MWF 9-9:59 am MW 9-9:59 am WF 9-9:59 am W 7-9:...   \n",
       "\n",
       "                        Thurs Dec 12  \\\n",
       "0  TuTh 6:30-8:59 am Th 6:30-9:59 am   \n",
       "\n",
       "                                          Fri Dec 13  \n",
       "0  FS 8-8:59 am F 8-9:59 am WF 8-8:59 am MF 9-9:5...  "
      ]
     },
     "execution_count": 54,
     "metadata": {},
     "output_type": "execute_result"
    }
   ],
   "source": [
    "#What the data frame contains:\n",
    "table_df.head(1)"
   ]
  },
  {
   "cell_type": "code",
   "execution_count": 55,
   "metadata": {},
   "outputs": [
    {
     "name": "stdout",
     "output_type": "stream",
     "text": [
      "TuTh 6:30-8:59 am Th 6:30-9:59 am \n",
      "\n",
      "FS 8-8:59 am F 8-9:59 am WF 8-8:59 am MF 9-9:59 am \n",
      "\n"
     ]
    },
    {
     "data": {
      "text/plain": [
       "Thurs Dec 12    None\n",
       "Fri Dec 13      None\n",
       "Name: 0, dtype: object"
      ]
     },
     "execution_count": 55,
     "metadata": {},
     "output_type": "execute_result"
    }
   ],
   "source": [
    "#cloder look at row 1--chosen randomly:\n",
    "table_df.loc[0,'Thurs Dec 12':].map(lambda entry: print(entry, '\\n'))"
   ]
  },
  {
   "cell_type": "code",
   "execution_count": 56,
   "metadata": {},
   "outputs": [
    {
     "data": {
      "text/plain": [
       "str"
      ]
     },
     "execution_count": 56,
     "metadata": {},
     "output_type": "execute_result"
    }
   ],
   "source": [
    "#the entries have str data type\n",
    "type(table_df.loc[4,'Mon Dec 9'])"
   ]
  },
  {
   "cell_type": "code",
   "execution_count": 57,
   "metadata": {},
   "outputs": [],
   "source": [
    "#Applying the regex function to all rows and columns\n",
    "#Updating the dataframe so the entries no longet have str data type, \n",
    "table_df.loc[:,'Mon Dec 9':]=table_df.loc[:,'Mon Dec 9':].applymap(lambda stringEntry: re.findall(\"\\w+ [0-9]+:?[0-9]*-[0-9]+:[0-9]+ [ap]m\", stringEntry))"
   ]
  },
  {
   "cell_type": "code",
   "execution_count": 169,
   "metadata": {},
   "outputs": [
    {
     "data": {
      "text/plain": [
       "Index(['time / date', 'Mon Dec 9', 'Tue Dec 10', 'Wed Dec 11', 'Thurs Dec 12',\n",
       "       'Fri Dec 13'],\n",
       "      dtype='object')"
      ]
     },
     "execution_count": 169,
     "metadata": {},
     "output_type": "execute_result"
    }
   ],
   "source": [
    "table_df.columns"
   ]
  },
  {
   "cell_type": "code",
   "execution_count": 59,
   "metadata": {},
   "outputs": [
    {
     "data": {
      "text/plain": [
       "list"
      ]
     },
     "execution_count": 59,
     "metadata": {},
     "output_type": "execute_result"
    }
   ],
   "source": [
    "#Checking that the entries have list data type\n",
    "type(table_df.loc[1, 'Mon Dec 9'])"
   ]
  },
  {
   "cell_type": "code",
   "execution_count": 168,
   "metadata": {},
   "outputs": [
    {
     "data": {
      "text/plain": [
       "['8 AM -10 AM',\n",
       " '10:15 AM - 12:15 PM',\n",
       " '12:45 PM - 2:45 PM',\n",
       " '3 PM - 5 PM',\n",
       " '5:30 PM - 7:30 PM',\n",
       " '8 PM - 10 PM']"
      ]
     },
     "execution_count": 168,
     "metadata": {},
     "output_type": "execute_result"
    }
   ],
   "source": [
    "#Storing the time ranges of the finals:\n",
    "time_list = list(table_df['time / date'])\n",
    "time_list"
   ]
  },
  {
   "cell_type": "code",
   "execution_count": 174,
   "metadata": {},
   "outputs": [
    {
     "ename": "AttributeError",
     "evalue": "'str' object has no attribute 'name'",
     "output_type": "error",
     "traceback": [
      "\u001b[1;31m---------------------------------------------------------------------------\u001b[0m",
      "\u001b[1;31mAttributeError\u001b[0m                            Traceback (most recent call last)",
      "\u001b[1;32m<ipython-input-174-700c5b22c9a4>\u001b[0m in \u001b[0;36m<module>\u001b[1;34m\u001b[0m\n\u001b[0;32m      2\u001b[0m \u001b[1;31m#col + ', ' + time_list[x]# ADDING TO DICTIONARY, STRs ARE KEYS AND VALUES\u001b[0m\u001b[1;33m\u001b[0m\u001b[1;33m\u001b[0m\u001b[1;33m\u001b[0m\u001b[0m\n\u001b[0;32m      3\u001b[0m         \u001b[1;31m#{'F 10-10:59 AM': 'NAME OF COL,TIME FROM col time/date index 0-5'}\u001b[0m\u001b[1;33m\u001b[0m\u001b[1;33m\u001b[0m\u001b[1;33m\u001b[0m\u001b[0m\n\u001b[1;32m----> 4\u001b[1;33m \u001b[0mtable_df\u001b[0m\u001b[1;33m.\u001b[0m\u001b[0mcolumns\u001b[0m\u001b[1;33m[\u001b[0m\u001b[1;36m0\u001b[0m\u001b[1;33m]\u001b[0m\u001b[1;33m.\u001b[0m\u001b[0mname\u001b[0m\u001b[1;33m\u001b[0m\u001b[1;33m\u001b[0m\u001b[0m\n\u001b[0m",
      "\u001b[1;31mAttributeError\u001b[0m: 'str' object has no attribute 'name'"
     ]
    }
   ],
   "source": [
    "class_to_final_dict={}\n",
    "col + ', ' + time_list[x]# ADDING TO DICTIONARY, STRs ARE KEYS AND VALUES\n",
    "        #{'F 10-10:59 AM': 'NAME OF COL,TIME FROM col time/date index 0-5'}"
   ]
  },
  {
   "cell_type": "code",
   "execution_count": 178,
   "metadata": {},
   "outputs": [
    {
     "name": "stdout",
     "output_type": "stream",
     "text": [
      "time:  8-8:59\n",
      "['8', '8:59']\n",
      "MWF\n",
      "am\n",
      "time:  7-8:59\n",
      "['7', '8:59']\n",
      "MW\n",
      "am\n",
      "time:  7-9:59\n",
      "['7', '9:59']\n",
      "M\n",
      "am\n",
      "time:  8-8:59\n",
      "['8', '8:59']\n",
      "MF\n",
      "am\n",
      "time:  9-9:59\n",
      "['9', '9:59']\n",
      "TuTh\n",
      "am\n",
      "time:  7-9:59\n",
      "['7', '9:59']\n",
      "Tu\n",
      "am\n",
      "time:  9-9:59\n",
      "['9', '9:59']\n",
      "MWF\n",
      "am\n",
      "time:  9-9:59\n",
      "['9', '9:59']\n",
      "MW\n",
      "am\n",
      "time:  9-9:59\n",
      "['9', '9:59']\n",
      "WF\n",
      "am\n",
      "time:  7-9:59\n",
      "['7', '9:59']\n",
      "W\n",
      "am\n",
      "time:  6:30-8:59\n",
      "['6:30', '8:59']\n",
      "TuTh\n",
      "am\n",
      "time:  6:30-9:59\n",
      "['6:30', '9:59']\n",
      "Th\n",
      "am\n",
      "time:  8-8:59\n",
      "['8', '8:59']\n",
      "FS\n",
      "am\n",
      "time:  8-9:59\n",
      "['8', '9:59']\n",
      "F\n",
      "am\n",
      "time:  8-8:59\n",
      "['8', '8:59']\n",
      "WF\n",
      "am\n",
      "time:  9-9:59\n",
      "['9', '9:59']\n",
      "MF\n",
      "am\n",
      "time:  10-10:59\n",
      "['10', '10:59']\n",
      "MWF\n",
      "am\n",
      "time:  10-10:59\n",
      "['10', '10:59']\n",
      "MW\n",
      "am\n",
      "time:  10-11:59\n",
      "['10', '11:59']\n",
      "M\n",
      "am\n",
      "time:  10-10:59\n",
      "['10', '10:59']\n",
      "MF\n",
      "am\n",
      "time:  11-11:59\n",
      "['11', '11:59']\n",
      "TuTh\n",
      "am\n",
      "time:  10-11:59\n",
      "['10', '11:59']\n",
      "Tu\n",
      "am\n",
      "time:  11-11:59\n",
      "['11', '11:59']\n",
      "MWF\n",
      "am\n",
      "time:  11-11:59\n",
      "['11', '11:59']\n",
      "MW\n",
      "am\n",
      "time:  11-11:59\n",
      "['11', '11:59']\n",
      "WF\n",
      "am\n",
      "time:  10-11:59\n",
      "['10', '11:59']\n",
      "W\n",
      "am\n",
      "time:  10-10:59\n",
      "['10', '10:59']\n",
      "TuTh\n",
      "am\n",
      "time:  10-11:59\n",
      "['10', '11:59']\n",
      "Th\n",
      "am\n",
      "time:  10-10:59\n",
      "['10', '10:59']\n",
      "FS\n",
      "am\n",
      "time:  10-11:59\n",
      "['10', '11:59']\n",
      "F\n",
      "am\n",
      "time:  11-11:59\n",
      "['11', '11:59']\n",
      "MF\n",
      "am\n",
      "time:  10-10:59\n",
      "['10', '10:59']\n",
      "WF\n",
      "am\n",
      "time:  12-12:59\n",
      "['12', '12:59']\n",
      "MWF\n",
      "pm\n",
      "time:  12-12:59\n",
      "['12', '12:59']\n",
      "MW\n",
      "pm\n",
      "time:  12-1:59\n",
      "['12', '1:59']\n",
      "M\n",
      "pm\n",
      "time:  12-12:59\n",
      "['12', '12:59']\n",
      "MF\n",
      "pm\n",
      "time:  1-1:59\n",
      "['1', '1:59']\n",
      "TuTh\n",
      "pm\n",
      "time:  12-1:59\n",
      "['12', '1:59']\n",
      "Tu\n",
      "pm\n",
      "time:  1-1:59\n",
      "['1', '1:59']\n",
      "MWF\n",
      "pm\n",
      "time:  1-1:59\n",
      "['1', '1:59']\n",
      "MW\n",
      "pm\n",
      "time:  12-1:59\n",
      "['12', '1:59']\n",
      "W\n",
      "pm\n",
      "time:  1-1:59\n",
      "['1', '1:59']\n",
      "WF\n",
      "pm\n",
      "time:  12-12:59\n",
      "['12', '12:59']\n",
      "TuTh\n",
      "pm\n",
      "time:  12-1:59\n",
      "['12', '1:59']\n",
      "Th\n",
      "pm\n",
      "time:  12-12:59\n",
      "['12', '12:59']\n",
      "FS\n",
      "pm\n",
      "time:  12-1:59\n",
      "['12', '1:59']\n",
      "F\n",
      "pm\n",
      "time:  12-12:59\n",
      "['12', '12:59']\n",
      "WF\n",
      "pm\n",
      "time:  1-1:59\n",
      "['1', '1:59']\n",
      "MF\n",
      "pm\n",
      "time:  2-2:59\n",
      "['2', '2:59']\n",
      "MWF\n",
      "pm\n",
      "time:  2-2:59\n",
      "['2', '2:59']\n",
      "MW\n",
      "pm\n",
      "time:  2-2:59\n",
      "['2', '2:59']\n",
      "M\n",
      "pm\n",
      "time:  2-2:59\n",
      "['2', '2:59']\n",
      "MF\n",
      "pm\n",
      "time:  3-3:59\n",
      "['3', '3:59']\n",
      "TuTh\n",
      "pm\n",
      "time:  2-2:59\n",
      "['2', '2:59']\n",
      "Tu\n",
      "pm\n",
      "time:  3-5:59\n",
      "['3', '5:59']\n",
      "MWF\n",
      "pm\n",
      "time:  3-3:59\n",
      "['3', '3:59']\n",
      "MW\n",
      "pm\n",
      "time:  2-2:59\n",
      "['2', '2:59']\n",
      "W\n",
      "pm\n",
      "time:  3-3:59\n",
      "['3', '3:59']\n",
      "WF\n",
      "pm\n",
      "time:  2-2:59\n",
      "['2', '2:59']\n",
      "TuTh\n",
      "pm\n",
      "time:  2-2:59\n",
      "['2', '2:59']\n",
      "Th\n",
      "pm\n",
      "time:  2-2:59\n",
      "['2', '2:59']\n",
      "FS\n",
      "pm\n",
      "time:  2-3:59\n",
      "['2', '3:59']\n",
      "F\n",
      "pm\n",
      "time:  3-3:59\n",
      "['3', '3:59']\n",
      "MF\n",
      "pm\n",
      "time:  2-2:59\n",
      "['2', '2:59']\n",
      "WF\n",
      "pm\n",
      "time:  4-4:59\n",
      "['4', '4:59']\n",
      "MWF\n",
      "pm\n",
      "time:  4-4:59\n",
      "['4', '4:59']\n",
      "MW\n",
      "pm\n",
      "time:  3-5:59\n",
      "['3', '5:59']\n",
      "M\n",
      "pm\n",
      "time:  4-4:59\n",
      "['4', '4:59']\n",
      "MF\n",
      "pm\n",
      "time:  5-5:59\n",
      "['5', '5:59']\n",
      "TuTh\n",
      "pm\n",
      "time:  3-5:59\n",
      "['3', '5:59']\n",
      "Tu\n",
      "pm\n",
      "time:  5-5:59\n",
      "['5', '5:59']\n",
      "MWF\n",
      "pm\n",
      "time:  5-5:59\n",
      "['5', '5:59']\n",
      "MW\n",
      "pm\n",
      "time:  3-5:59\n",
      "['3', '5:59']\n",
      "W\n",
      "pm\n",
      "time:  5-5:59\n",
      "['5', '5:59']\n",
      "WF\n",
      "pm\n",
      "time:  4-4:59\n",
      "['4', '4:59']\n",
      "TuTh\n",
      "pm\n",
      "time:  3-5:59\n",
      "['3', '5:59']\n",
      "Th\n",
      "pm\n",
      "time:  4-4:59\n",
      "['4', '4:59']\n",
      "FS\n",
      "pm\n",
      "time:  4-5:59\n",
      "['4', '5:59']\n",
      "F\n",
      "pm\n",
      "time:  4-4:59\n",
      "['4', '4:59']\n",
      "WF\n",
      "pm\n",
      "time:  5-5:59\n",
      "['5', '5:59']\n",
      "MF\n",
      "pm\n",
      "time:  6-7:59\n",
      "['6', '7:59']\n",
      "MW\n",
      "pm\n",
      "time:  6-9:59\n",
      "['6', '9:59']\n",
      "M\n",
      "pm\n",
      "time:  8-9:59\n",
      "['8', '9:59']\n",
      "TuTh\n",
      "pm\n",
      "time:  6-9:59\n",
      "['6', '9:59']\n",
      "Tu\n",
      "pm\n",
      "time:  6-9:59\n",
      "['6', '9:59']\n",
      "W\n",
      "pm\n",
      "time:  8-9:59\n",
      "['8', '9:59']\n",
      "MW\n",
      "pm\n",
      "time:  6-7:59\n",
      "['6', '7:59']\n",
      "TuTh\n",
      "pm\n",
      "time:  6-9:59\n",
      "['6', '9:59']\n",
      "Th\n",
      "pm\n",
      "time:  6-9:59\n",
      "['6', '9:59']\n",
      "FS\n",
      "pm\n",
      "time:  6-9:59\n",
      "['6', '9:59']\n",
      "F\n",
      "pm\n"
     ]
    }
   ],
   "source": [
    "for index, row in table_df.loc[:,'Mon Dec 9':].iterrows():\n",
    "    col_name_of_entry = table_df.columns[0]\n",
    "    for cols_entries in row: #datatype of cols_entries is list\n",
    "        for string_start_times in cols_entries:#class_to_final_dict[string_start_times] = <COL NAME> +', '+ time_list[index]\n",
    "            print('time: ' ,re.findall(\"[0-9]+:?[0-9]*-[0-9]+:[0-9]+\",string_start_times)[0]) #date range\n",
    "            print(re.findall(\"[0-9]+:?[0-9]*\",string_start_times)) #start and end dates\n",
    "            print(re.findall(\"\\w+\",string_start_times)[0]) #MWF/FS/etc\n",
    "            print(string_start_times[-2:]) #am/pm\n",
    "#X IS INDEX NUMBER\n",
    "#COL IS THE COL NAME\n",
    "#Y IS STR IN LISTS"
   ]
  },
  {
   "cell_type": "code",
   "execution_count": 151,
   "metadata": {},
   "outputs": [
    {
     "name": "stdout",
     "output_type": "stream",
     "text": [
      "Mon Dec 9\n",
      "['MWF 8-8:59 am', 'MW 7-8:59 am', 'M 7-9:59 am', 'MF 8-8:59 am']\n",
      "Mon Dec 9\n",
      "['MWF 10-10:59 am', 'MW 10-10:59 am', 'M 10-11:59 am', 'MF 10-10:59 am']\n",
      "Mon Dec 9\n",
      "['MWF 12-12:59 pm', 'MW 12-12:59 pm', 'M 12-1:59 pm', 'MF 12-12:59 pm']\n",
      "Mon Dec 9\n",
      "['MWF 2-2:59 pm', 'MW 2-2:59 pm', 'M 2-2:59 pm', 'MF 2-2:59 pm']\n",
      "Mon Dec 9\n",
      "['MWF 4-4:59 pm', 'MW 4-4:59 pm', 'M 3-5:59 pm', 'MF 4-4:59 pm']\n",
      "Mon Dec 9\n",
      "['MW 6-7:59 pm', 'M 6-9:59 pm']\n",
      "Tue Dec 10\n",
      "['TuTh 9-9:59 am', 'Tu 7-9:59 am']\n",
      "Tue Dec 10\n",
      "['TuTh 11-11:59 am', 'Tu 10-11:59 am']\n",
      "Tue Dec 10\n",
      "['TuTh 1-1:59 pm', 'Tu 12-1:59 pm']\n",
      "Tue Dec 10\n",
      "['TuTh 3-3:59 pm', 'Tu 2-2:59 pm']\n",
      "Tue Dec 10\n",
      "['TuTh 5-5:59 pm', 'Tu 3-5:59 pm']\n",
      "Tue Dec 10\n",
      "['TuTh 8-9:59 pm', 'Tu 6-9:59 pm']\n",
      "Wed Dec 11\n",
      "['MWF 9-9:59 am', 'MW 9-9:59 am', 'WF 9-9:59 am', 'W 7-9:59 am']\n",
      "Wed Dec 11\n",
      "['MWF 11-11:59 am', 'MW 11-11:59 am', 'WF 11-11:59 am', 'W 10-11:59 am']\n",
      "Wed Dec 11\n",
      "['MWF 1-1:59 pm', 'MW 1-1:59 pm', 'W 12-1:59 pm', 'WF 1-1:59 pm']\n",
      "Wed Dec 11\n",
      "['MWF 3-5:59 pm', 'MW 3-3:59 pm', 'W 2-2:59 pm', 'WF 3-3:59 pm']\n",
      "Wed Dec 11\n",
      "['MWF 5-5:59 pm', 'MW 5-5:59 pm', 'W 3-5:59 pm', 'WF 5-5:59 pm']\n",
      "Wed Dec 11\n",
      "['W 6-9:59 pm', 'MW 8-9:59 pm']\n",
      "Thurs Dec 12\n",
      "['TuTh 6:30-8:59 am', 'Th 6:30-9:59 am']\n",
      "Thurs Dec 12\n",
      "['TuTh 10-10:59 am', 'Th 10-11:59 am']\n",
      "Thurs Dec 12\n",
      "['TuTh 12-12:59 pm', 'Th 12-1:59 pm']\n",
      "Thurs Dec 12\n",
      "['TuTh 2-2:59 pm', 'Th 2-2:59 pm']\n",
      "Thurs Dec 12\n",
      "['TuTh 4-4:59 pm', 'Th 3-5:59 pm']\n",
      "Thurs Dec 12\n",
      "['TuTh 6-7:59 pm', 'Th 6-9:59 pm']\n",
      "Fri Dec 13\n",
      "['FS 8-8:59 am', 'F 8-9:59 am', 'WF 8-8:59 am', 'MF 9-9:59 am']\n",
      "Fri Dec 13\n",
      "['FS 10-10:59 am', 'F 10-11:59 am', 'MF 11-11:59 am', 'WF 10-10:59 am']\n",
      "Fri Dec 13\n",
      "['FS 12-12:59 pm', 'F 12-1:59 pm', 'WF 12-12:59 pm', 'MF 1-1:59 pm']\n",
      "Fri Dec 13\n",
      "['FS 2-2:59 pm', 'F 2-3:59 pm', 'MF 3-3:59 pm', 'WF 2-2:59 pm']\n",
      "Fri Dec 13\n",
      "['FS 4-4:59 pm', 'F 4-5:59 pm', 'WF 4-4:59 pm', 'MF 5-5:59 pm']\n",
      "Fri Dec 13\n",
      "['FS 6-9:59 pm', 'F 6-9:59 pm']\n"
     ]
    }
   ],
   "source": [
    "class_to_final_dict = {}\n",
    "for col in table_df.columns[1:]: #GOES TO EACH COL\n",
    "  for x in range(0,6): #GOES DOWN THE COL TO EACH ROW OF COLS\n",
    "    class_DTs = table_df.loc[x,col]\n",
    "    lookup_set = re.findall(\"\\w+ [0-9]+:?[0-9]*-[0-9]+:[0-9]+ [ap]m\", class_DTs) #USES REGEX CONVERT TO LIST of str\n",
    "    for y in lookup_set: #GETS EACH STR IN THE LIST JUST CREATED OUT OF TABLE ENTRY\n",
    "      class_to_final_dict[y] = col + ', ' + time_list[x]# ADDING TO DICTIONARY, STRs ARE KEYS AND VALUES\n",
    "        #{'F 10-10:59 AM': 'NAME OF COL,TIME FROM col time/date index 0-5'}\n",
    "      #print(y,'->',class_to_final_dict[y])\n",
    "      print(re.findall(\"[0-9]+:?[0-9]*-[0-9]+:[0-9]+\",y)[0]) #date range\n",
    "      print(re.findall(\"[0-9]+:?[0-9]*\",y)) #start and end dates\n",
    "      print(re.findall(\"\\w+\",y)[0]) #MWF/FS/etc\n",
    "      print(y[-2:]) #am/pm\n",
    "#X IS INDEX NUMBER\n",
    "#COL IS THE COL NAME\n",
    "#Y IS STR IN LISTS"
   ]
  },
  {
   "cell_type": "code",
   "execution_count": 148,
   "metadata": {},
   "outputs": [
    {
     "data": {
      "text/plain": [
       "['MWF 10-10:59 am', 'MW 10-10:59 am', 'M 10-11:59 am', 'MF 10-10:59 am']"
      ]
     },
     "execution_count": 148,
     "metadata": {},
     "output_type": "execute_result"
    }
   ],
   "source": [
    "table_df.loc[1,'Mon Dec 9']"
   ]
  },
  {
   "cell_type": "code",
   "execution_count": 111,
   "metadata": {},
   "outputs": [],
   "source": [
    "#The goups of days that's present in the table\n",
    "list_of_days=['MWF','MW','M','MF','TuTh','Tu','WF','W','Th','FS','F']\n",
    "class_days =dict()\n",
    "for days in list_of_days:\n",
    "    class_days[days] = 0   "
   ]
  },
  {
   "cell_type": "code",
   "execution_count": null,
   "metadata": {},
   "outputs": [],
   "source": []
  },
  {
   "cell_type": "code",
   "execution_count": null,
   "metadata": {},
   "outputs": [],
   "source": []
  },
  {
   "cell_type": "code",
   "execution_count": null,
   "metadata": {},
   "outputs": [],
   "source": []
  },
  {
   "cell_type": "code",
   "execution_count": 133,
   "metadata": {},
   "outputs": [
    {
     "name": "stdout",
     "output_type": "stream",
     "text": [
      "4\n",
      "<class 'list'>\n",
      "4\n",
      "<class 'list'>\n",
      "4\n",
      "<class 'list'>\n",
      "4\n",
      "<class 'list'>\n",
      "4\n",
      "<class 'list'>\n",
      "2\n",
      "<class 'list'>\n",
      "6\n"
     ]
    }
   ],
   "source": [
    "count = 0\n",
    "for entry in table_df['Fri Dec 13']:\n",
    "    print(len(entry))\n",
    "    print(type(entry))\n",
    "    count+=1\n",
    "print(count)"
   ]
  },
  {
   "cell_type": "code",
   "execution_count": 139,
   "metadata": {},
   "outputs": [
    {
     "name": "stdout",
     "output_type": "stream",
     "text": [
      "['MWF 8-8:59 am', 'MW 7-8:59 am', 'M 7-9:59 am', 'MF 8-8:59 am']\n",
      "['TuTh 9-9:59 am', 'Tu 7-9:59 am']\n",
      "['MWF 9-9:59 am', 'MW 9-9:59 am', 'WF 9-9:59 am', 'W 7-9:59 am']\n",
      "['TuTh 6:30-8:59 am', 'Th 6:30-9:59 am']\n",
      "['FS 8-8:59 am', 'F 8-9:59 am', 'WF 8-8:59 am', 'MF 9-9:59 am']\n",
      "\n",
      "['MWF 10-10:59 am', 'MW 10-10:59 am', 'M 10-11:59 am', 'MF 10-10:59 am']\n",
      "['TuTh 11-11:59 am', 'Tu 10-11:59 am']\n",
      "['MWF 11-11:59 am', 'MW 11-11:59 am', 'WF 11-11:59 am', 'W 10-11:59 am']\n",
      "['TuTh 10-10:59 am', 'Th 10-11:59 am']\n",
      "['FS 10-10:59 am', 'F 10-11:59 am', 'MF 11-11:59 am', 'WF 10-10:59 am']\n",
      "\n",
      "['MWF 12-12:59 pm', 'MW 12-12:59 pm', 'M 12-1:59 pm', 'MF 12-12:59 pm']\n",
      "['TuTh 1-1:59 pm', 'Tu 12-1:59 pm']\n",
      "['MWF 1-1:59 pm', 'MW 1-1:59 pm', 'W 12-1:59 pm', 'WF 1-1:59 pm']\n",
      "['TuTh 12-12:59 pm', 'Th 12-1:59 pm']\n",
      "['FS 12-12:59 pm', 'F 12-1:59 pm', 'WF 12-12:59 pm', 'MF 1-1:59 pm']\n",
      "\n",
      "['MWF 2-2:59 pm', 'MW 2-2:59 pm', 'M 2-2:59 pm', 'MF 2-2:59 pm']\n",
      "['TuTh 3-3:59 pm', 'Tu 2-2:59 pm']\n",
      "['MWF 3-5:59 pm', 'MW 3-3:59 pm', 'W 2-2:59 pm', 'WF 3-3:59 pm']\n",
      "['TuTh 2-2:59 pm', 'Th 2-2:59 pm']\n",
      "['FS 2-2:59 pm', 'F 2-3:59 pm', 'MF 3-3:59 pm', 'WF 2-2:59 pm']\n",
      "\n",
      "['MWF 4-4:59 pm', 'MW 4-4:59 pm', 'M 3-5:59 pm', 'MF 4-4:59 pm']\n",
      "['TuTh 5-5:59 pm', 'Tu 3-5:59 pm']\n",
      "['MWF 5-5:59 pm', 'MW 5-5:59 pm', 'W 3-5:59 pm', 'WF 5-5:59 pm']\n",
      "['TuTh 4-4:59 pm', 'Th 3-5:59 pm']\n",
      "['FS 4-4:59 pm', 'F 4-5:59 pm', 'WF 4-4:59 pm', 'MF 5-5:59 pm']\n",
      "\n",
      "['MW 6-7:59 pm', 'M 6-9:59 pm']\n",
      "['TuTh 8-9:59 pm', 'Tu 6-9:59 pm']\n",
      "['W 6-9:59 pm', 'MW 8-9:59 pm']\n",
      "['TuTh 6-7:59 pm', 'Th 6-9:59 pm']\n",
      "['FS 6-9:59 pm', 'F 6-9:59 pm']\n",
      "\n"
     ]
    }
   ],
   "source": [
    "for index, row in table_df.loc[:,'Mon Dec 9':].iterrows():\n",
    "    for dayslist in row:\n",
    "        print(dayslist)\n",
    "    print()"
   ]
  },
  {
   "cell_type": "code",
   "execution_count": 99,
   "metadata": {},
   "outputs": [],
   "source": [
    "#finding the busies days of the finals week\n",
    "for index, row in table_df.loc[:,'Mon Dec 9':].iterrows():\n",
    "    for dayslist in row:\n",
    "        for entry in dayslist:\n",
    "            if 'MWF' in entry:\n",
    "                class_days['MWF']+=1\n",
    "            if 'MW' in entry:\n",
    "                class_days['MW'] +=1\n",
    "            if 'M' in entry:\n",
    "                class_days['M'] +=1\n",
    "            if 'MF' in entry:\n",
    "                class_days['MF'] +=1\n",
    "            if 'TuTh' in entry:\n",
    "                class_days['TuTh'] +=1\n",
    "            if 'Tu' in entry:\n",
    "                class_days['Tu'] +=1\n",
    "            if 'WF' in entry:\n",
    "                class_days['WF'] +=1\n",
    "            if 'W' in entry:\n",
    "                class_days['W'] +=1\n",
    "            if 'Th' in entry:\n",
    "                class_days['Th'] +=1\n",
    "            if 'FS' in entry:\n",
    "                class_days['FS'] +=1\n",
    "            if 'F' in entry:\n",
    "                class_days['F'] +=1"
   ]
  },
  {
   "cell_type": "code",
   "execution_count": 110,
   "metadata": {},
   "outputs": [
    {
     "data": {
      "text/plain": [
       "{'MWF': 10,\n",
       " 'MW': 22,\n",
       " 'M': 38,\n",
       " 'MF': 10,\n",
       " 'TuTh': 12,\n",
       " 'Tu': 18,\n",
       " 'WF': 20,\n",
       " 'W': 38,\n",
       " 'Th': 18,\n",
       " 'FS': 6,\n",
       " 'F': 42}"
      ]
     },
     "execution_count": 110,
     "metadata": {},
     "output_type": "execute_result"
    }
   ],
   "source": [
    "class_days"
   ]
  },
  {
   "cell_type": "code",
   "execution_count": 24,
   "metadata": {},
   "outputs": [],
   "source": [
    "string_val = table_df.loc[4,'Mon Dec 9']\n",
    "result = re.findall(\"\\w+ [0-9]+-[0-9]:[0-9]+ [ap]m\", string_val)\n"
   ]
  },
  {
   "cell_type": "code",
   "execution_count": 36,
   "metadata": {},
   "outputs": [
    {
     "name": "stdout",
     "output_type": "stream",
     "text": [
      "MWF 8-8:59 am MW 7-8:59 am M 7-9:59 am MF 8-8:59 am \n",
      "\n",
      "MWF 10-10:59 am MW 10-10:59 am M 10-11:59 am MF 10-10:59 am \n",
      "\n",
      "MWF 12-12:59 pm MW 12-12:59 pm M 12-1:59 pm MF 12-12:59 pm \n",
      "\n",
      "MWF 2-2:59 pm MW 2-2:59 pm M 2-2:59 pm MF 2-2:59 pm \n",
      "\n",
      "MWF 4-4:59 pm MW 4-4:59 pm M 3-5:59 pm MF 4-4:59 pm \n",
      "\n",
      "MW 6-7:59 pm M 6-9:59 pm \n",
      "\n"
     ]
    }
   ],
   "source": [
    "table_df.loc[:,'Mon Dec 9'].map(lambda x: print(x, '\\n'));"
   ]
  },
  {
   "cell_type": "code",
   "execution_count": null,
   "metadata": {},
   "outputs": [],
   "source": []
  }
 ],
 "metadata": {
  "kernelspec": {
   "display_name": "Python 3",
   "language": "python",
   "name": "python3"
  },
  "language_info": {
   "codemirror_mode": {
    "name": "ipython",
    "version": 3
   },
   "file_extension": ".py",
   "mimetype": "text/x-python",
   "name": "python",
   "nbconvert_exporter": "python",
   "pygments_lexer": "ipython3",
   "version": "3.7.1"
  }
 },
 "nbformat": 4,
 "nbformat_minor": 2
}
